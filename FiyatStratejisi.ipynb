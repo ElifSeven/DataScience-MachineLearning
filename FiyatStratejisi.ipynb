{
 "cells": [
  {
   "cell_type": "markdown",
   "id": "e1fe9ea2-8baa-492d-9ffd-ce719787eb5f",
   "metadata": {},
   "source": [
    "## Problem: \n",
    "#### CEO fiyat belirleme konusunda bilimsel bir dayanak ve esneklik istiyor\n",
    "##### Satıcı, alıcı ve bir ürün var\n",
    "##### Alıcılara ürüne ne kadar ücret öderdiniz diye soruluyor\n",
    "##### Optimum fiyat bilimsel ve esnek olarak bulunmak isteniyor"
   ]
  },
  {
   "cell_type": "markdown",
   "id": "5c91a51e-dc84-493c-8297-8c7526306bb8",
   "metadata": {},
   "source": [
    "Ortalamalar alınarak bir değer bulunabilir. Fakat bilimsel dayanak vermek ve esneklik vermek daha önemlidir. Yani fiyatı verdik ancak deneme amacıyla düşük fiyat verebilirim veya yüksek fiyat verebilirim sonuçlarını görmek amacıyla, bilimsel anlamda ve bu esnekliği sağlayacak çalışma: Veri bilimi anlamında Güven Aralığı yöntemidir. Örneğin 100 denemeden  95 inde yapılacak teklifler bua ralıkta olacaktır. Bu aralıkta değer verilirse %5 yanılma payı olacaktır."
   ]
  },
  {
   "cell_type": "code",
   "execution_count": 1,
   "id": "4c10b45d-ce03-43cc-864a-a3c55cc2b8b0",
   "metadata": {},
   "outputs": [],
   "source": [
    "import numpy as np\n",
    "fiyatlar = np.random.randint(10,110,1000)"
   ]
  },
  {
   "cell_type": "code",
   "execution_count": 4,
   "id": "d24bb725-ddc9-430d-b5af-efa9c35166a8",
   "metadata": {},
   "outputs": [
    {
     "data": {
      "text/plain": [
       "58.158"
      ]
     },
     "execution_count": 4,
     "metadata": {},
     "output_type": "execute_result"
    }
   ],
   "source": [
    "fiyatlar.mean()  # ortalama ödenmesi göze alınan miktar"
   ]
  },
  {
   "cell_type": "code",
   "execution_count": 5,
   "id": "8754959a-94f2-4f02-b901-469cdcadca38",
   "metadata": {},
   "outputs": [],
   "source": [
    "# etrafına güven aralığı koyarak daha zengin bir karar mekanizsması oluşturmak\n",
    "import statsmodels.stats.api as sms"
   ]
  },
  {
   "cell_type": "code",
   "execution_count": 9,
   "id": "23900b94-7dd3-4005-b0f6-0e16c7815a68",
   "metadata": {},
   "outputs": [
    {
     "data": {
      "text/plain": [
       "(56.383502074670055, 59.93249792532995)"
      ]
     },
     "execution_count": 9,
     "metadata": {},
     "output_type": "execute_result"
    }
   ],
   "source": [
    "sms.DescrStatsW(fiyatlar).tconfint_mean() #confidence internalın kısaltması\n",
    "# Kullanıcıların ödemeye göze aldığı ücret istatiksel olarak %95 güvenilirlik oranı ile bu iki değer arasında değerlerdir.. \n",
    "# Çünkü güven aralığında her zaman hata payı %5 dir."
   ]
  },
  {
   "cell_type": "code",
   "execution_count": null,
   "id": "9e53c5eb-8460-45da-b1fd-8e3006747b6e",
   "metadata": {},
   "outputs": [],
   "source": []
  }
 ],
 "metadata": {
  "kernelspec": {
   "display_name": "Python 3 (ipykernel)",
   "language": "python",
   "name": "python3"
  },
  "language_info": {
   "codemirror_mode": {
    "name": "ipython",
    "version": 3
   },
   "file_extension": ".py",
   "mimetype": "text/x-python",
   "name": "python",
   "nbconvert_exporter": "python",
   "pygments_lexer": "ipython3",
   "version": "3.9.7"
  }
 },
 "nbformat": 4,
 "nbformat_minor": 5
}
