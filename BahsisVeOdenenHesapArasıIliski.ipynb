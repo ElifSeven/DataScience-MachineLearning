{
 "cells": [
  {
   "cell_type": "markdown",
   "id": "4cfe612d-21f0-4384-886d-90c2b7a1923a",
   "metadata": {},
   "source": [
    "## Problem:\n",
    "Bahsis İle Odenen Hesap arasında Korelasyon var mı?"
   ]
  },
  {
   "cell_type": "markdown",
   "id": "5f1eab67-476b-4b57-87ce-4db315c22447",
   "metadata": {},
   "source": [
    "Bahşiş veri seti:\n",
    "\n",
    "total_bill: yemeğin toplam fiyatı (bahşiş ve vergi dahil)\n",
    "\n",
    "tip: bahşiş\n",
    "\n",
    "sex: ücreti ödeyen kişinin cinsiyeti (0=male, 1=female)\n",
    "\n",
    "smoker: grupta sigara içen var mı? (0=No, 1=Yes)\n",
    "\n",
    "day: gün (3=Thur, 4=Fri, 5=Sat, 6=Sun)\n",
    "\n",
    "time: ne zaman? (0=Day, 1=Night)\n",
    "\n",
    "size: grupta kaç kişi var?"
   ]
  },
  {
   "cell_type": "code",
   "execution_count": 4,
   "id": "5e66b2f6-e0c6-4fa0-a0a2-a7d6b78c4af2",
   "metadata": {},
   "outputs": [
    {
     "data": {
      "text/html": [
       "<div>\n",
       "<style scoped>\n",
       "    .dataframe tbody tr th:only-of-type {\n",
       "        vertical-align: middle;\n",
       "    }\n",
       "\n",
       "    .dataframe tbody tr th {\n",
       "        vertical-align: top;\n",
       "    }\n",
       "\n",
       "    .dataframe thead th {\n",
       "        text-align: right;\n",
       "    }\n",
       "</style>\n",
       "<table border=\"1\" class=\"dataframe\">\n",
       "  <thead>\n",
       "    <tr style=\"text-align: right;\">\n",
       "      <th></th>\n",
       "      <th>total_bill</th>\n",
       "      <th>tip</th>\n",
       "      <th>sex</th>\n",
       "      <th>smoker</th>\n",
       "      <th>day</th>\n",
       "      <th>time</th>\n",
       "      <th>size</th>\n",
       "    </tr>\n",
       "  </thead>\n",
       "  <tbody>\n",
       "    <tr>\n",
       "      <th>0</th>\n",
       "      <td>16.99</td>\n",
       "      <td>1.01</td>\n",
       "      <td>Female</td>\n",
       "      <td>No</td>\n",
       "      <td>Sun</td>\n",
       "      <td>Dinner</td>\n",
       "      <td>2</td>\n",
       "    </tr>\n",
       "    <tr>\n",
       "      <th>1</th>\n",
       "      <td>10.34</td>\n",
       "      <td>1.66</td>\n",
       "      <td>Male</td>\n",
       "      <td>No</td>\n",
       "      <td>Sun</td>\n",
       "      <td>Dinner</td>\n",
       "      <td>3</td>\n",
       "    </tr>\n",
       "    <tr>\n",
       "      <th>2</th>\n",
       "      <td>21.01</td>\n",
       "      <td>3.50</td>\n",
       "      <td>Male</td>\n",
       "      <td>No</td>\n",
       "      <td>Sun</td>\n",
       "      <td>Dinner</td>\n",
       "      <td>3</td>\n",
       "    </tr>\n",
       "    <tr>\n",
       "      <th>3</th>\n",
       "      <td>23.68</td>\n",
       "      <td>3.31</td>\n",
       "      <td>Male</td>\n",
       "      <td>No</td>\n",
       "      <td>Sun</td>\n",
       "      <td>Dinner</td>\n",
       "      <td>2</td>\n",
       "    </tr>\n",
       "    <tr>\n",
       "      <th>4</th>\n",
       "      <td>24.59</td>\n",
       "      <td>3.61</td>\n",
       "      <td>Female</td>\n",
       "      <td>No</td>\n",
       "      <td>Sun</td>\n",
       "      <td>Dinner</td>\n",
       "      <td>4</td>\n",
       "    </tr>\n",
       "  </tbody>\n",
       "</table>\n",
       "</div>"
      ],
      "text/plain": [
       "   total_bill   tip     sex smoker  day    time  size\n",
       "0       16.99  1.01  Female     No  Sun  Dinner     2\n",
       "1       10.34  1.66    Male     No  Sun  Dinner     3\n",
       "2       21.01  3.50    Male     No  Sun  Dinner     3\n",
       "3       23.68  3.31    Male     No  Sun  Dinner     2\n",
       "4       24.59  3.61  Female     No  Sun  Dinner     4"
      ]
     },
     "execution_count": 4,
     "metadata": {},
     "output_type": "execute_result"
    }
   ],
   "source": [
    "import seaborn as sns\n",
    "import pandas as pd\n",
    "tips = sns.load_dataset('tips')\n",
    "df = tips.copy()\n",
    "df.head()"
   ]
  },
  {
   "cell_type": "code",
   "execution_count": 6,
   "id": "285dfd35-d4a7-4d0c-adb3-3f501116337b",
   "metadata": {},
   "outputs": [],
   "source": [
    "df[\"total_bill\"] = df[\"total_bill\"] - df[\"tip\"]"
   ]
  },
  {
   "cell_type": "code",
   "execution_count": 7,
   "id": "acef4d01-6a9b-4bf8-a90a-d3b0bc7b9124",
   "metadata": {},
   "outputs": [
    {
     "data": {
      "text/html": [
       "<div>\n",
       "<style scoped>\n",
       "    .dataframe tbody tr th:only-of-type {\n",
       "        vertical-align: middle;\n",
       "    }\n",
       "\n",
       "    .dataframe tbody tr th {\n",
       "        vertical-align: top;\n",
       "    }\n",
       "\n",
       "    .dataframe thead th {\n",
       "        text-align: right;\n",
       "    }\n",
       "</style>\n",
       "<table border=\"1\" class=\"dataframe\">\n",
       "  <thead>\n",
       "    <tr style=\"text-align: right;\">\n",
       "      <th></th>\n",
       "      <th>total_bill</th>\n",
       "      <th>tip</th>\n",
       "      <th>sex</th>\n",
       "      <th>smoker</th>\n",
       "      <th>day</th>\n",
       "      <th>time</th>\n",
       "      <th>size</th>\n",
       "    </tr>\n",
       "  </thead>\n",
       "  <tbody>\n",
       "    <tr>\n",
       "      <th>0</th>\n",
       "      <td>14.97</td>\n",
       "      <td>1.01</td>\n",
       "      <td>Female</td>\n",
       "      <td>No</td>\n",
       "      <td>Sun</td>\n",
       "      <td>Dinner</td>\n",
       "      <td>2</td>\n",
       "    </tr>\n",
       "    <tr>\n",
       "      <th>1</th>\n",
       "      <td>7.02</td>\n",
       "      <td>1.66</td>\n",
       "      <td>Male</td>\n",
       "      <td>No</td>\n",
       "      <td>Sun</td>\n",
       "      <td>Dinner</td>\n",
       "      <td>3</td>\n",
       "    </tr>\n",
       "    <tr>\n",
       "      <th>2</th>\n",
       "      <td>14.01</td>\n",
       "      <td>3.50</td>\n",
       "      <td>Male</td>\n",
       "      <td>No</td>\n",
       "      <td>Sun</td>\n",
       "      <td>Dinner</td>\n",
       "      <td>3</td>\n",
       "    </tr>\n",
       "    <tr>\n",
       "      <th>3</th>\n",
       "      <td>17.06</td>\n",
       "      <td>3.31</td>\n",
       "      <td>Male</td>\n",
       "      <td>No</td>\n",
       "      <td>Sun</td>\n",
       "      <td>Dinner</td>\n",
       "      <td>2</td>\n",
       "    </tr>\n",
       "    <tr>\n",
       "      <th>4</th>\n",
       "      <td>17.37</td>\n",
       "      <td>3.61</td>\n",
       "      <td>Female</td>\n",
       "      <td>No</td>\n",
       "      <td>Sun</td>\n",
       "      <td>Dinner</td>\n",
       "      <td>4</td>\n",
       "    </tr>\n",
       "  </tbody>\n",
       "</table>\n",
       "</div>"
      ],
      "text/plain": [
       "   total_bill   tip     sex smoker  day    time  size\n",
       "0       14.97  1.01  Female     No  Sun  Dinner     2\n",
       "1        7.02  1.66    Male     No  Sun  Dinner     3\n",
       "2       14.01  3.50    Male     No  Sun  Dinner     3\n",
       "3       17.06  3.31    Male     No  Sun  Dinner     2\n",
       "4       17.37  3.61  Female     No  Sun  Dinner     4"
      ]
     },
     "execution_count": 7,
     "metadata": {},
     "output_type": "execute_result"
    }
   ],
   "source": [
    "df.head()"
   ]
  },
  {
   "cell_type": "code",
   "execution_count": 9,
   "id": "8b1ad53c-30a3-49c5-8ab6-e712bf3da225",
   "metadata": {},
   "outputs": [
    {
     "data": {
      "image/png": "[encoded data removed]",
      "text/plain": [
       "<Figure size 432x288 with 1 Axes>"
      ]
     },
     "metadata": {
      "needs_background": "light"
     },
     "output_type": "display_data"
    }
   ],
   "source": [
    "df.plot.scatter(\"tip\",\"total_bill\");\n",
    "## Tip arttıkça hesap artmis"
   ]
  },
  {
   "cell_type": "markdown",
   "id": "ee2cb718-6513-4683-8f92-a0a95aaba77b",
   "metadata": {},
   "source": [
    "#### Varsayım Kontrolü"
   ]
  },
  {
   "cell_type": "code",
   "execution_count": 10,
   "id": "9e78d9b3-7701-47b7-b0a2-39c5a395eba9",
   "metadata": {},
   "outputs": [],
   "source": [
    "from scipy.stats import shapiro"
   ]
  },
  {
   "cell_type": "code",
   "execution_count": 11,
   "id": "2e70ac00-2707-4126-bf67-ac925acd2c9b",
   "metadata": {},
   "outputs": [
    {
     "name": "stdout",
     "output_type": "stream",
     "text": [
      "Test İstatistiği = 0.8978, p-değeri = 0.0000\n",
      "Test İstatistiği = 0.9073, p-değeri = 0.0000\n"
     ]
    }
   ],
   "source": [
    "# 2  değişken için ilgili test istatistikleri\n",
    "test_istatistigi, pvalue = shapiro(df[\"tip\"])\n",
    "print('Test İstatistiği = %.4f, p-değeri = %.4f' % (test_istatistigi, pvalue))\n",
    "\n",
    "test_istatistigi, pvalue = shapiro(df[\"total_bill\"])\n",
    "print('Test İstatistiği = %.4f, p-değeri = %.4f' % (test_istatistigi, pvalue))"
   ]
  },
  {
   "cell_type": "markdown",
   "id": "00eb9f11-5c4d-4458-8e08-5b75cb30dca2",
   "metadata": {},
   "source": [
    "2 degisken için de normallik varsayımının sağlanmadığını görüyoruz.\n",
    "Yani örnek dağılım ile teorik normal dağılım birbirine benzemiyor demiş oluyoruz."
   ]
  },
  {
   "cell_type": "markdown",
   "id": "01a85662-18fb-4def-b592-a9f7da837a59",
   "metadata": {},
   "source": [
    "###### Öncelikle sağlanıyormuş gibi yaparak parametrik test yapılır. \n",
    "###### Daha sonra Non-parametrik testi yapılarak her koşulda karşılaşılan senaryoda bu korelasyon incelemes yapılır. "
   ]
  },
  {
   "cell_type": "markdown",
   "id": "4b87f776-dd9d-4f28-9efe-8982c9a5ea68",
   "metadata": {},
   "source": [
    "#### Hipotez Testi"
   ]
  },
  {
   "cell_type": "markdown",
   "id": "b5bea773-0ebe-4a6f-bd25-f97a0b2ad65b",
   "metadata": {},
   "source": [
    "##### Korelasyon Katsayısı"
   ]
  },
  {
   "cell_type": "code",
   "execution_count": 13,
   "id": "3f624e4b-46a6-42ac-847a-4209b849abd6",
   "metadata": {},
   "outputs": [
    {
     "data": {
      "text/plain": [
       "0.44362654305917903"
      ]
     },
     "execution_count": 13,
     "metadata": {},
     "output_type": "execute_result"
    }
   ],
   "source": [
    "df[\"tip\"].corr(df[\"total_bill\"])"
   ]
  },
  {
   "cell_type": "code",
   "execution_count": 14,
   "id": "a6cd6180-e1cf-4afc-8911-7800bcada408",
   "metadata": {},
   "outputs": [
    {
     "data": {
      "text/plain": [
       "0.47840852330002187"
      ]
     },
     "execution_count": 14,
     "metadata": {},
     "output_type": "execute_result"
    }
   ],
   "source": [
    "df[\"tip\"].corr(df[\"total_bill\"], method = \"spearman\") #degiskenler arası pozitif orta yönlü bir ilişki var"
   ]
  },
  {
   "cell_type": "markdown",
   "id": "79a652d5-139f-4f35-857e-fefa3201740d",
   "metadata": {},
   "source": [
    "##### Korelasyonun Anlamlılığı Testi"
   ]
  },
  {
   "cell_type": "code",
   "execution_count": 16,
   "id": "5d8de566-e54b-4c5f-812c-db4554e08a3d",
   "metadata": {},
   "outputs": [],
   "source": [
    "from scipy.stats.stats import pearsonr"
   ]
  },
  {
   "cell_type": "code",
   "execution_count": 17,
   "id": "f58f8b37-4b50-4e1b-9448-7a9847532f75",
   "metadata": {},
   "outputs": [
    {
     "name": "stdout",
     "output_type": "stream",
     "text": [
      "Korelasyon Katsayısı = 0.4436, p-değeri = 0.0000\n"
     ]
    }
   ],
   "source": [
    "test_istatistigi, pvalue = pearsonr(df[\"tip\"],df[\"total_bill\"])\n",
    "\n",
    "print('Korelasyon Katsayısı = %.4f, p-değeri = %.4f' % (test_istatistigi, pvalue))"
   ]
  },
  {
   "cell_type": "markdown",
   "id": "f0e7a743-b0ad-408d-b7ff-a31d1552eb48",
   "metadata": {},
   "source": [
    "###### Degiskenler arası anlamlı bir ilişki yok diyen H0 hipotezini reddetmektedir."
   ]
  },
  {
   "cell_type": "markdown",
   "id": "1310d875-0cac-4fc0-8180-c99e317b79b7",
   "metadata": {},
   "source": [
    "##### Nonparametrik Hipotez Testi"
   ]
  },
  {
   "cell_type": "code",
   "execution_count": 18,
   "id": "ebbd82ad-475e-4e56-a9ca-11de5f6df0c9",
   "metadata": {},
   "outputs": [
    {
     "data": {
      "text/plain": [
       "SpearmanrResult(correlation=0.47840852330002187, pvalue=2.3232643717153163e-15)"
      ]
     },
     "execution_count": 18,
     "metadata": {},
     "output_type": "execute_result"
    }
   ],
   "source": [
    "from scipy.stats import stats\n",
    "stats.spearmanr(df[\"tip\"],df[\"total_bill\"])"
   ]
  },
  {
   "cell_type": "code",
   "execution_count": 19,
   "id": "be5cb540-ec68-4cbb-9267-cc0a811f125e",
   "metadata": {},
   "outputs": [
    {
     "name": "stdout",
     "output_type": "stream",
     "text": [
      "Korelasyon Katsayısı = 0.4784, p-değeri = 0.0000\n"
     ]
    }
   ],
   "source": [
    "test_istatistigi, pvalue = stats.spearmanr(df[\"tip\"],df[\"total_bill\"])\n",
    "\n",
    "print('Korelasyon Katsayısı = %.4f, p-değeri = %.4f' % (test_istatistigi, pvalue))"
   ]
  },
  {
   "cell_type": "code",
   "execution_count": 20,
   "id": "bfc25324-edb1-413e-80e3-ec5df87b8b4b",
   "metadata": {},
   "outputs": [
    {
     "name": "stdout",
     "output_type": "stream",
     "text": [
      "Korelasyon Katsayısı = 0.3449, p-değeri = 0.0000\n"
     ]
    }
   ],
   "source": [
    "test_istatistigi, pvalue = stats.kendalltau(df[\"tip\"],df[\"total_bill\"])\n",
    "\n",
    "print('Korelasyon Katsayısı = %.4f, p-değeri = %.4f' % (test_istatistigi, pvalue))"
   ]
  },
  {
   "cell_type": "markdown",
   "id": "b29fc1c9-1d0b-4cff-a8e3-510d5df74551",
   "metadata": {},
   "source": [
    "##### İki değişken arasındaki ilişkiyi, yönünü, şiddetini, ve bu ilişki anlamlı mı bunları test ettik. İki değişken arasındaki ilişki korelasyon testleriyle test ettik. Fakat öncesinde varsayımları inceledik. Varsayım sağlanıyorsa Pearson, sağlanmıyorsa Spearmanr korelasyon katsayısını kulllanacağımızı ifade ettik. Buna yönelik, H0 hipotezi reddedilir. Ve anlamlı ve pozitif yönde bir ilişki vardır. "
   ]
  },
  {
   "cell_type": "code",
   "execution_count": null,
   "id": "ddce6daa-a214-44cc-b0b4-c90e5864c990",
   "metadata": {},
   "outputs": [],
   "source": []
  }
 ],
 "metadata": {
  "kernelspec": {
   "display_name": "Python 3 (ipykernel)",
   "language": "python",
   "name": "python3"
  },
  "language_info": {
   "codemirror_mode": {
    "name": "ipython",
    "version": 3
   },
   "file_extension": ".py",
   "mimetype": "text/x-python",
   "name": "python",
   "nbconvert_exporter": "python",
   "pygments_lexer": "ipython3",
   "version": "3.9.7"
  }
 },
 "nbformat": 4,
 "nbformat_minor": 5
}
