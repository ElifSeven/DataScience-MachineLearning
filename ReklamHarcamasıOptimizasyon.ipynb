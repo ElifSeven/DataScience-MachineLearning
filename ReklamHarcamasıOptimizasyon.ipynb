{
 "cells": [
  {
   "cell_type": "markdown",
   "id": "1a4bc0ff-7eaf-4fae-b10e-c09aedeeb8e1",
   "metadata": {},
   "source": [
    "## Problem:\n",
    "##### Reklamların tıklama ve geri dönüşüm oranları optimize edilmeye çalışılıyor. Çeşitli senaryolara göre reklama tıklama olasılıkları hesaplanmak isteniliyor. Binom Dağılımı kullanılarak yapılacak"
   ]
  },
  {
   "cell_type": "markdown",
   "id": "3d0700fc-fac8-4785-b4c9-77a0793c146b",
   "metadata": {},
   "source": [
    "##### Bir mecrada reklam verilecek. \n",
    "##### Dağılım ve reklama tıklama olasılığı biliniyor.(0.01)\n",
    "##### Reklamı 100 kişi gördüğünde 1,5,10 tıklaması olasılığı nedir?"
   ]
  },
  {
   "cell_type": "code",
   "execution_count": 6,
   "id": "ed9ab9b3-e2c8-4b83-8807-9f6d05498d30",
   "metadata": {},
   "outputs": [],
   "source": [
    "from scipy.stats import binom"
   ]
  },
  {
   "cell_type": "code",
   "execution_count": 9,
   "id": "b38f6bc5-6a88-49cf-9c39-813183b3a744",
   "metadata": {},
   "outputs": [
    {
     "name": "stdout",
     "output_type": "stream",
     "text": [
      "0.36972963764972666\n",
      "0.002897787123761478\n",
      "7.006035693977194e-08\n"
     ]
    }
   ],
   "source": [
    "p  = 0.01 # olasılık degeri\n",
    "n =  100  # deneme sayısı\n",
    "rv = binom(n,p)\n",
    "print(rv.pmf(1)) # pmf: Olasılık Kütle Dağılımı. Probability mass function\n",
    "print(rv.pmf(5))\n",
    "print(rv.pmf(10))"
   ]
  },
  {
   "cell_type": "code",
   "execution_count": null,
   "id": "f82e84c3-625f-49e0-a21d-a94a084be474",
   "metadata": {},
   "outputs": [],
   "source": []
  }
 ],
 "metadata": {
  "kernelspec": {
   "display_name": "Python 3 (ipykernel)",
   "language": "python",
   "name": "python3"
  },
  "language_info": {
   "codemirror_mode": {
    "name": "ipython",
    "version": 3
   },
   "file_extension": ".py",
   "mimetype": "text/x-python",
   "name": "python",
   "nbconvert_exporter": "python",
   "pygments_lexer": "ipython3",
   "version": "3.9.7"
  }
 },
 "nbformat": 4,
 "nbformat_minor": 5
}
