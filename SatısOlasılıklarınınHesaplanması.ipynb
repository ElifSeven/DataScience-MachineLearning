{
 "cells": [
  {
   "cell_type": "markdown",
   "id": "c707d591-1cf6-4302-919e-f5260044a971",
   "metadata": {},
   "source": [
    "## Problem:\n",
    "##### Bir yatırım/toplantı öncesinde gelecek ay ile ilgili satışların belirli değerlerde gerçekleşme olasılıkları belirlenmek isteniyor."
   ]
  },
  {
   "cell_type": "markdown",
   "id": "f6d1d79f-7a26-4eb2-894d-15e27837e4d0",
   "metadata": {},
   "source": [
    "##### Dağılımın normal olduğu biliniyor.\n",
    "##### Aylık ortalama satış sayısı 80K, standart sapması 5K\n",
    "##### 90K'dan fazla satış yapma olasılığı nedir?"
   ]
  },
  {
   "cell_type": "code",
   "execution_count": 1,
   "id": "28f731fa-9518-4a6a-890c-8f8e35495a67",
   "metadata": {},
   "outputs": [],
   "source": [
    "from scipy.stats import norm"
   ]
  },
  {
   "cell_type": "code",
   "execution_count": 10,
   "id": "1558d919-82e1-413e-a6e3-38c2b8263adb",
   "metadata": {},
   "outputs": [
    {
     "data": {
      "text/plain": [
       "0.02275013194817921"
      ]
     },
     "execution_count": 10,
     "metadata": {},
     "output_type": "execute_result"
    }
   ],
   "source": [
    "1-norm.cdf(90,80,5)   #cdf: kumulatif yoğunluk fonksiyonu \n",
    "# 90 dan fazla olma olasılığı"
   ]
  },
  {
   "cell_type": "code",
   "execution_count": 6,
   "id": "0207af1e-7915-47e9-bb52-2e7f0090cc6b",
   "metadata": {},
   "outputs": [
    {
     "data": {
      "text/plain": [
       "0.9772498680518208"
      ]
     },
     "execution_count": 6,
     "metadata": {},
     "output_type": "execute_result"
    }
   ],
   "source": [
    "1-norm.cdf(70,80,5)  #70 den fazla olma olasılığı"
   ]
  },
  {
   "cell_type": "code",
   "execution_count": 7,
   "id": "d21895bb-b3ec-47fb-bd7e-256b1471b31d",
   "metadata": {},
   "outputs": [
    {
     "data": {
      "text/plain": [
       "0.08075665923377107"
      ]
     },
     "execution_count": 7,
     "metadata": {},
     "output_type": "execute_result"
    }
   ],
   "source": [
    "norm.cdf(73,80,5) # 73 den az olma olasılığı"
   ]
  },
  {
   "cell_type": "code",
   "execution_count": 9,
   "id": "ebc064e9-ccfd-43fe-b11c-5d9a574411e2",
   "metadata": {},
   "outputs": [
    {
     "data": {
      "text/plain": [
       "0.13590512198327787"
      ]
     },
     "execution_count": 9,
     "metadata": {},
     "output_type": "execute_result"
    }
   ],
   "source": [
    "norm.cdf(90,80,5) - norm.cdf(85,80,5)  # 85 ile 90 arasında olma olasılığı"
   ]
  },
  {
   "cell_type": "code",
   "execution_count": null,
   "id": "0ce7bc06-7616-4a0b-9a44-b43a57ba4c82",
   "metadata": {},
   "outputs": [],
   "source": []
  }
 ],
 "metadata": {
  "kernelspec": {
   "display_name": "Python 3 (ipykernel)",
   "language": "python",
   "name": "python3"
  },
  "language_info": {
   "codemirror_mode": {
    "name": "ipython",
    "version": 3
   },
   "file_extension": ".py",
   "mimetype": "text/x-python",
   "name": "python",
   "nbconvert_exporter": "python",
   "pygments_lexer": "ipython3",
   "version": "3.9.7"
  }
 },
 "nbformat": 4,
 "nbformat_minor": 5
}
