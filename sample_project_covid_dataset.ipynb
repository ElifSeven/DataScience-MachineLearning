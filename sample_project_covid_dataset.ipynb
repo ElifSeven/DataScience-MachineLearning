{
 "cells": [
  {
   "cell_type": "code",
   "execution_count": 5,
   "metadata": {
    "executionInfo": {
     "elapsed": 861,
     "status": "ok",
     "timestamp": 1658220313252,
     "user": {
      "displayName": "Berker Yurtseven",
      "userId": "14477093514752478755"
     },
     "user_tz": -180
    },
    "id": "-dCWz6p3ocI9"
   },
   "outputs": [],
   "source": [
    "import numpy as np\n",
    "import matplotlib.pyplot as plt\n",
    "import pandas as pd\n",
    "import seaborn as sns\n",
    "\n",
    "from sklearn.model_selection import train_test_split\n",
    "from sklearn.neighbors import KNeighborsClassifier\n",
    "from sklearn import preprocessing"
   ]
  },
  {
   "cell_type": "markdown",
   "metadata": {},
   "source": [
    "## 2022 PROJE HOMEWORK"
   ]
  },
  {
   "cell_type": "code",
   "execution_count": 6,
   "metadata": {
    "id": "kcn3PIM7od2i"
   },
   "outputs": [],
   "source": [
    "#Açıklama için https://github.com/owid/covid-19-data/tree/master/public/data\n",
    "df=pd.read_csv('https://covid.ourworldindata.org/data/owid-covid-data.csv')"
   ]
  },
  {
   "cell_type": "markdown",
   "metadata": {},
   "source": [
    "### Exploratory Data Analysis"
   ]
  },
  {
   "cell_type": "code",
   "execution_count": 7,
   "metadata": {
    "tags": []
   },
   "outputs": [
    {
     "name": "stdout",
     "output_type": "stream",
     "text": [
      "<class 'pandas.core.frame.DataFrame'>\n",
      "RangeIndex: 202644 entries, 0 to 202643\n",
      "Data columns (total 67 columns):\n",
      " #   Column                                      Non-Null Count   Dtype  \n",
      "---  ------                                      --------------   -----  \n",
      " 0   iso_code                                    202644 non-null  object \n",
      " 1   continent                                   190907 non-null  object \n",
      " 2   location                                    202644 non-null  object \n",
      " 3   date                                        202644 non-null  object \n",
      " 4   total_cases                                 194578 non-null  float64\n",
      " 5   new_cases                                   194324 non-null  float64\n",
      " 6   new_cases_smoothed                          193147 non-null  float64\n",
      " 7   total_deaths                                175877 non-null  float64\n",
      " 8   new_deaths                                  175861 non-null  float64\n",
      " 9   new_deaths_smoothed                         174699 non-null  float64\n",
      " 10  total_cases_per_million                     193683 non-null  float64\n",
      " 11  new_cases_per_million                       193429 non-null  float64\n",
      " 12  new_cases_smoothed_per_million              192257 non-null  float64\n",
      " 13  total_deaths_per_million                    174995 non-null  float64\n",
      " 14  new_deaths_per_million                      174979 non-null  float64\n",
      " 15  new_deaths_smoothed_per_million             173822 non-null  float64\n",
      " 16  reproduction_rate                           151592 non-null  float64\n",
      " 17  icu_patients                                26810 non-null   float64\n",
      " 18  icu_patients_per_million                    26810 non-null   float64\n",
      " 19  hosp_patients                               28717 non-null   float64\n",
      " 20  hosp_patients_per_million                   28717 non-null   float64\n",
      " 21  weekly_icu_admissions                       6612 non-null    float64\n",
      " 22  weekly_icu_admissions_per_million           6612 non-null    float64\n",
      " 23  weekly_hosp_admissions                      13139 non-null   float64\n",
      " 24  weekly_hosp_admissions_per_million          13139 non-null   float64\n",
      " 25  total_tests                                 79385 non-null   float64\n",
      " 26  new_tests                                   75401 non-null   float64\n",
      " 27  total_tests_per_thousand                    79385 non-null   float64\n",
      " 28  new_tests_per_thousand                      75401 non-null   float64\n",
      " 29  new_tests_smoothed                          103963 non-null  float64\n",
      " 30  new_tests_smoothed_per_thousand             103963 non-null  float64\n",
      " 31  positive_rate                               95920 non-null   float64\n",
      " 32  tests_per_case                              94058 non-null   float64\n",
      " 33  tests_units                                 106786 non-null  object \n",
      " 34  total_vaccinations                          56039 non-null   float64\n",
      " 35  people_vaccinated                           53445 non-null   float64\n",
      " 36  people_fully_vaccinated                     50938 non-null   float64\n",
      " 37  total_boosters                              27767 non-null   float64\n",
      " 38  new_vaccinations                            45914 non-null   float64\n",
      " 39  new_vaccinations_smoothed                   112603 non-null  float64\n",
      " 40  total_vaccinations_per_hundred              56039 non-null   float64\n",
      " 41  people_vaccinated_per_hundred               53445 non-null   float64\n",
      " 42  people_fully_vaccinated_per_hundred         50938 non-null   float64\n",
      " 43  total_boosters_per_hundred                  27767 non-null   float64\n",
      " 44  new_vaccinations_smoothed_per_million       112603 non-null  float64\n",
      " 45  new_people_vaccinated_smoothed              111679 non-null  float64\n",
      " 46  new_people_vaccinated_smoothed_per_hundred  111679 non-null  float64\n",
      " 47  stringency_index                            157504 non-null  float64\n",
      " 48  population                                  201432 non-null  float64\n",
      " 49  population_density                          180581 non-null  float64\n",
      " 50  median_age                                  167311 non-null  float64\n",
      " 51  aged_65_older                               165542 non-null  float64\n",
      " 52  aged_70_older                               166435 non-null  float64\n",
      " 53  gdp_per_capita                              166322 non-null  float64\n",
      " 54  extreme_poverty                             108481 non-null  float64\n",
      " 55  cardiovasc_death_rate                       166904 non-null  float64\n",
      " 56  diabetes_prevalence                         175174 non-null  float64\n",
      " 57  female_smokers                              126202 non-null  float64\n",
      " 58  male_smokers                                124473 non-null  float64\n",
      " 59  handwashing_facilities                      81942 non-null   float64\n",
      " 60  hospital_beds_per_thousand                  148264 non-null  float64\n",
      " 61  life_expectancy                             189538 non-null  float64\n",
      " 62  human_development_index                     162485 non-null  float64\n",
      " 63  excess_mortality_cumulative_absolute        6846 non-null    float64\n",
      " 64  excess_mortality_cumulative                 6846 non-null    float64\n",
      " 65  excess_mortality                            6846 non-null    float64\n",
      " 66  excess_mortality_cumulative_per_million     6846 non-null    float64\n",
      "dtypes: float64(62), object(5)\n",
      "memory usage: 103.6+ MB\n"
     ]
    }
   ],
   "source": [
    "df.info()"
   ]
  },
  {
   "cell_type": "code",
   "execution_count": 8,
   "metadata": {
    "tags": []
   },
   "outputs": [
    {
     "data": {
      "text/html": [
       "<div>\n",
       "<style scoped>\n",
       "    .dataframe tbody tr th:only-of-type {\n",
       "        vertical-align: middle;\n",
       "    }\n",
       "\n",
       "    .dataframe tbody tr th {\n",
       "        vertical-align: top;\n",
       "    }\n",
       "\n",
       "    .dataframe thead th {\n",
       "        text-align: right;\n",
       "    }\n",
       "</style>\n",
       "<table border=\"1\" class=\"dataframe\">\n",
       "  <thead>\n",
       "    <tr style=\"text-align: right;\">\n",
       "      <th></th>\n",
       "      <th>count</th>\n",
       "      <th>mean</th>\n",
       "      <th>std</th>\n",
       "      <th>min</th>\n",
       "      <th>25%</th>\n",
       "      <th>50%</th>\n",
       "      <th>75%</th>\n",
       "      <th>max</th>\n",
       "    </tr>\n",
       "  </thead>\n",
       "  <tbody>\n",
       "    <tr>\n",
       "      <th>total_cases</th>\n",
       "      <td>194578.0</td>\n",
       "      <td>3.679286e+06</td>\n",
       "      <td>2.310784e+07</td>\n",
       "      <td>1.000000</td>\n",
       "      <td>3181.000000</td>\n",
       "      <td>39736.000000</td>\n",
       "      <td>423484.250000</td>\n",
       "      <td>5.667836e+08</td>\n",
       "    </tr>\n",
       "    <tr>\n",
       "      <th>new_cases</th>\n",
       "      <td>194324.0</td>\n",
       "      <td>1.245415e+04</td>\n",
       "      <td>8.700957e+04</td>\n",
       "      <td>0.000000</td>\n",
       "      <td>0.000000</td>\n",
       "      <td>66.000000</td>\n",
       "      <td>1012.000000</td>\n",
       "      <td>4.079558e+06</td>\n",
       "    </tr>\n",
       "    <tr>\n",
       "      <th>new_cases_smoothed</th>\n",
       "      <td>193147.0</td>\n",
       "      <td>1.244245e+04</td>\n",
       "      <td>8.496512e+04</td>\n",
       "      <td>0.000000</td>\n",
       "      <td>6.714000</td>\n",
       "      <td>100.143000</td>\n",
       "      <td>1134.714000</td>\n",
       "      <td>3.438025e+06</td>\n",
       "    </tr>\n",
       "    <tr>\n",
       "      <th>total_deaths</th>\n",
       "      <td>175877.0</td>\n",
       "      <td>6.797721e+04</td>\n",
       "      <td>3.527580e+05</td>\n",
       "      <td>1.000000</td>\n",
       "      <td>101.000000</td>\n",
       "      <td>996.000000</td>\n",
       "      <td>8948.000000</td>\n",
       "      <td>6.380811e+06</td>\n",
       "    </tr>\n",
       "    <tr>\n",
       "      <th>new_deaths</th>\n",
       "      <td>175861.0</td>\n",
       "      <td>1.505111e+02</td>\n",
       "      <td>7.685493e+02</td>\n",
       "      <td>0.000000</td>\n",
       "      <td>0.000000</td>\n",
       "      <td>1.000000</td>\n",
       "      <td>16.000000</td>\n",
       "      <td>1.815200e+04</td>\n",
       "    </tr>\n",
       "    <tr>\n",
       "      <th>...</th>\n",
       "      <td>...</td>\n",
       "      <td>...</td>\n",
       "      <td>...</td>\n",
       "      <td>...</td>\n",
       "      <td>...</td>\n",
       "      <td>...</td>\n",
       "      <td>...</td>\n",
       "      <td>...</td>\n",
       "    </tr>\n",
       "    <tr>\n",
       "      <th>human_development_index</th>\n",
       "      <td>162485.0</td>\n",
       "      <td>7.250504e-01</td>\n",
       "      <td>1.497129e-01</td>\n",
       "      <td>0.394000</td>\n",
       "      <td>0.602000</td>\n",
       "      <td>0.743000</td>\n",
       "      <td>0.845000</td>\n",
       "      <td>9.570000e-01</td>\n",
       "    </tr>\n",
       "    <tr>\n",
       "      <th>excess_mortality_cumulative_absolute</th>\n",
       "      <td>6846.0</td>\n",
       "      <td>4.308325e+04</td>\n",
       "      <td>1.197462e+05</td>\n",
       "      <td>-37726.100000</td>\n",
       "      <td>-14.500000</td>\n",
       "      <td>4815.300000</td>\n",
       "      <td>30622.675000</td>\n",
       "      <td>1.219078e+06</td>\n",
       "    </tr>\n",
       "    <tr>\n",
       "      <th>excess_mortality_cumulative</th>\n",
       "      <td>6846.0</td>\n",
       "      <td>9.327044e+00</td>\n",
       "      <td>1.412743e+01</td>\n",
       "      <td>-28.450000</td>\n",
       "      <td>-0.180000</td>\n",
       "      <td>6.785000</td>\n",
       "      <td>15.080000</td>\n",
       "      <td>7.655000e+01</td>\n",
       "    </tr>\n",
       "    <tr>\n",
       "      <th>excess_mortality</th>\n",
       "      <td>6846.0</td>\n",
       "      <td>1.441278e+01</td>\n",
       "      <td>2.792296e+01</td>\n",
       "      <td>-95.920000</td>\n",
       "      <td>-0.460000</td>\n",
       "      <td>7.090000</td>\n",
       "      <td>20.825000</td>\n",
       "      <td>3.757900e+02</td>\n",
       "    </tr>\n",
       "    <tr>\n",
       "      <th>excess_mortality_cumulative_per_million</th>\n",
       "      <td>6846.0</td>\n",
       "      <td>1.157816e+03</td>\n",
       "      <td>1.656999e+03</td>\n",
       "      <td>-3422.406298</td>\n",
       "      <td>-7.288569</td>\n",
       "      <td>605.770016</td>\n",
       "      <td>1860.772631</td>\n",
       "      <td>9.822218e+03</td>\n",
       "    </tr>\n",
       "  </tbody>\n",
       "</table>\n",
       "<p>62 rows × 8 columns</p>\n",
       "</div>"
      ],
      "text/plain": [
       "                                            count          mean           std  \\\n",
       "total_cases                              194578.0  3.679286e+06  2.310784e+07   \n",
       "new_cases                                194324.0  1.245415e+04  8.700957e+04   \n",
       "new_cases_smoothed                       193147.0  1.244245e+04  8.496512e+04   \n",
       "total_deaths                             175877.0  6.797721e+04  3.527580e+05   \n",
       "new_deaths                               175861.0  1.505111e+02  7.685493e+02   \n",
       "...                                           ...           ...           ...   \n",
       "human_development_index                  162485.0  7.250504e-01  1.497129e-01   \n",
       "excess_mortality_cumulative_absolute       6846.0  4.308325e+04  1.197462e+05   \n",
       "excess_mortality_cumulative                6846.0  9.327044e+00  1.412743e+01   \n",
       "excess_mortality                           6846.0  1.441278e+01  2.792296e+01   \n",
       "excess_mortality_cumulative_per_million    6846.0  1.157816e+03  1.656999e+03   \n",
       "\n",
       "                                                  min          25%  \\\n",
       "total_cases                                  1.000000  3181.000000   \n",
       "new_cases                                    0.000000     0.000000   \n",
       "new_cases_smoothed                           0.000000     6.714000   \n",
       "total_deaths                                 1.000000   101.000000   \n",
       "new_deaths                                   0.000000     0.000000   \n",
       "...                                               ...          ...   \n",
       "human_development_index                      0.394000     0.602000   \n",
       "excess_mortality_cumulative_absolute    -37726.100000   -14.500000   \n",
       "excess_mortality_cumulative                -28.450000    -0.180000   \n",
       "excess_mortality                           -95.920000    -0.460000   \n",
       "excess_mortality_cumulative_per_million  -3422.406298    -7.288569   \n",
       "\n",
       "                                                  50%            75%  \\\n",
       "total_cases                              39736.000000  423484.250000   \n",
       "new_cases                                   66.000000    1012.000000   \n",
       "new_cases_smoothed                         100.143000    1134.714000   \n",
       "total_deaths                               996.000000    8948.000000   \n",
       "new_deaths                                   1.000000      16.000000   \n",
       "...                                               ...            ...   \n",
       "human_development_index                      0.743000       0.845000   \n",
       "excess_mortality_cumulative_absolute      4815.300000   30622.675000   \n",
       "excess_mortality_cumulative                  6.785000      15.080000   \n",
       "excess_mortality                             7.090000      20.825000   \n",
       "excess_mortality_cumulative_per_million    605.770016    1860.772631   \n",
       "\n",
       "                                                  max  \n",
       "total_cases                              5.667836e+08  \n",
       "new_cases                                4.079558e+06  \n",
       "new_cases_smoothed                       3.438025e+06  \n",
       "total_deaths                             6.380811e+06  \n",
       "new_deaths                               1.815200e+04  \n",
       "...                                               ...  \n",
       "human_development_index                  9.570000e-01  \n",
       "excess_mortality_cumulative_absolute     1.219078e+06  \n",
       "excess_mortality_cumulative              7.655000e+01  \n",
       "excess_mortality                         3.757900e+02  \n",
       "excess_mortality_cumulative_per_million  9.822218e+03  \n",
       "\n",
       "[62 rows x 8 columns]"
      ]
     },
     "execution_count": 8,
     "metadata": {},
     "output_type": "execute_result"
    }
   ],
   "source": [
    "df.describe().T"
   ]
  },
  {
   "cell_type": "code",
   "execution_count": 9,
   "metadata": {},
   "outputs": [],
   "source": [
    "df_new = df[['date','new_cases','new_deaths','new_vaccinations','location','continent']]"
   ]
  },
  {
   "cell_type": "code",
   "execution_count": 10,
   "metadata": {},
   "outputs": [
    {
     "data": {
      "text/html": [
       "<div>\n",
       "<style scoped>\n",
       "    .dataframe tbody tr th:only-of-type {\n",
       "        vertical-align: middle;\n",
       "    }\n",
       "\n",
       "    .dataframe tbody tr th {\n",
       "        vertical-align: top;\n",
       "    }\n",
       "\n",
       "    .dataframe thead th {\n",
       "        text-align: right;\n",
       "    }\n",
       "</style>\n",
       "<table border=\"1\" class=\"dataframe\">\n",
       "  <thead>\n",
       "    <tr style=\"text-align: right;\">\n",
       "      <th></th>\n",
       "      <th>date</th>\n",
       "      <th>new_cases</th>\n",
       "      <th>new_deaths</th>\n",
       "      <th>new_vaccinations</th>\n",
       "      <th>location</th>\n",
       "      <th>continent</th>\n",
       "    </tr>\n",
       "  </thead>\n",
       "  <tbody>\n",
       "    <tr>\n",
       "      <th>0</th>\n",
       "      <td>2020-02-24</td>\n",
       "      <td>5.0</td>\n",
       "      <td>NaN</td>\n",
       "      <td>NaN</td>\n",
       "      <td>Afghanistan</td>\n",
       "      <td>Asia</td>\n",
       "    </tr>\n",
       "    <tr>\n",
       "      <th>1</th>\n",
       "      <td>2020-02-25</td>\n",
       "      <td>0.0</td>\n",
       "      <td>NaN</td>\n",
       "      <td>NaN</td>\n",
       "      <td>Afghanistan</td>\n",
       "      <td>Asia</td>\n",
       "    </tr>\n",
       "    <tr>\n",
       "      <th>2</th>\n",
       "      <td>2020-02-26</td>\n",
       "      <td>0.0</td>\n",
       "      <td>NaN</td>\n",
       "      <td>NaN</td>\n",
       "      <td>Afghanistan</td>\n",
       "      <td>Asia</td>\n",
       "    </tr>\n",
       "    <tr>\n",
       "      <th>3</th>\n",
       "      <td>2020-02-27</td>\n",
       "      <td>0.0</td>\n",
       "      <td>NaN</td>\n",
       "      <td>NaN</td>\n",
       "      <td>Afghanistan</td>\n",
       "      <td>Asia</td>\n",
       "    </tr>\n",
       "    <tr>\n",
       "      <th>4</th>\n",
       "      <td>2020-02-28</td>\n",
       "      <td>0.0</td>\n",
       "      <td>NaN</td>\n",
       "      <td>NaN</td>\n",
       "      <td>Afghanistan</td>\n",
       "      <td>Asia</td>\n",
       "    </tr>\n",
       "  </tbody>\n",
       "</table>\n",
       "</div>"
      ],
      "text/plain": [
       "         date  new_cases  new_deaths  new_vaccinations     location continent\n",
       "0  2020-02-24        5.0         NaN               NaN  Afghanistan      Asia\n",
       "1  2020-02-25        0.0         NaN               NaN  Afghanistan      Asia\n",
       "2  2020-02-26        0.0         NaN               NaN  Afghanistan      Asia\n",
       "3  2020-02-27        0.0         NaN               NaN  Afghanistan      Asia\n",
       "4  2020-02-28        0.0         NaN               NaN  Afghanistan      Asia"
      ]
     },
     "execution_count": 10,
     "metadata": {},
     "output_type": "execute_result"
    }
   ],
   "source": [
    "df_new.head()"
   ]
  },
  {
   "cell_type": "markdown",
   "metadata": {},
   "source": [
    "### Tarihe Göre Sıralama"
   ]
  },
  {
   "cell_type": "code",
   "execution_count": 11,
   "metadata": {},
   "outputs": [
    {
     "name": "stdout",
     "output_type": "stream",
     "text": [
      "              date  new_cases  new_deaths  new_vaccinations   location  \\\n",
      "117604  2020-01-01        NaN         NaN               NaN     Mexico   \n",
      "6950    2020-01-01        NaN         NaN               NaN  Argentina   \n",
      "117605  2020-01-02        NaN         NaN               NaN     Mexico   \n",
      "6951    2020-01-02        NaN         NaN               NaN  Argentina   \n",
      "117606  2020-01-03        NaN         NaN               NaN     Mexico   \n",
      "6952    2020-01-03        NaN         NaN               NaN  Argentina   \n",
      "180041  2020-01-04        NaN         NaN               NaN   Thailand   \n",
      "117607  2020-01-04        NaN         NaN               NaN     Mexico   \n",
      "6953    2020-01-04        NaN         NaN               NaN  Argentina   \n",
      "6954    2020-01-05        NaN         NaN               NaN  Argentina   \n",
      "\n",
      "            continent  \n",
      "117604  North America  \n",
      "6950    South America  \n",
      "117605  North America  \n",
      "6951    South America  \n",
      "117606  North America  \n",
      "6952    South America  \n",
      "180041           Asia  \n",
      "117607  North America  \n",
      "6953    South America  \n",
      "6954    South America  \n"
     ]
    }
   ],
   "source": [
    "df_sort_kW = df_new.sort_values(by = 'date', ascending = True) \n",
    "print(df_sort_kW [:10]) "
   ]
  },
  {
   "cell_type": "markdown",
   "metadata": {},
   "source": [
    "### 17 Temmuz 2022 new_cases verileri"
   ]
  },
  {
   "cell_type": "code",
   "execution_count": 12,
   "metadata": {},
   "outputs": [
    {
     "data": {
      "image/png": "[encoded data removed]",
      "text/plain": [
       "<Figure size 432x288 with 1 Axes>"
      ]
     },
     "metadata": {
      "needs_background": "light"
     },
     "output_type": "display_data"
    }
   ],
   "source": [
    "df_new.loc[(df_new.date > '2022-07-16') & (df_new.date < '2022-07-18')]['new_cases'].plot();"
   ]
  },
  {
   "cell_type": "code",
   "execution_count": 13,
   "metadata": {},
   "outputs": [],
   "source": [
    "df_newest = df_new.loc[(df_new.date > '2022-07-16') & (df_new.date < '2022-07-18')]"
   ]
  },
  {
   "cell_type": "code",
   "execution_count": 14,
   "metadata": {},
   "outputs": [
    {
     "data": {
      "text/html": [
       "<div>\n",
       "<style scoped>\n",
       "    .dataframe tbody tr th:only-of-type {\n",
       "        vertical-align: middle;\n",
       "    }\n",
       "\n",
       "    .dataframe tbody tr th {\n",
       "        vertical-align: top;\n",
       "    }\n",
       "\n",
       "    .dataframe thead th {\n",
       "        text-align: right;\n",
       "    }\n",
       "</style>\n",
       "<table border=\"1\" class=\"dataframe\">\n",
       "  <thead>\n",
       "    <tr style=\"text-align: right;\">\n",
       "      <th></th>\n",
       "      <th>date</th>\n",
       "      <th>new_cases</th>\n",
       "      <th>new_deaths</th>\n",
       "      <th>new_vaccinations</th>\n",
       "      <th>location</th>\n",
       "      <th>continent</th>\n",
       "    </tr>\n",
       "  </thead>\n",
       "  <tbody>\n",
       "    <tr>\n",
       "      <th>874</th>\n",
       "      <td>2022-07-17</td>\n",
       "      <td>127.0</td>\n",
       "      <td>1.0</td>\n",
       "      <td>NaN</td>\n",
       "      <td>Afghanistan</td>\n",
       "      <td>Asia</td>\n",
       "    </tr>\n",
       "    <tr>\n",
       "      <th>1763</th>\n",
       "      <td>2022-07-17</td>\n",
       "      <td>1447.0</td>\n",
       "      <td>10.0</td>\n",
       "      <td>NaN</td>\n",
       "      <td>Africa</td>\n",
       "      <td>NaN</td>\n",
       "    </tr>\n",
       "    <tr>\n",
       "      <th>2640</th>\n",
       "      <td>2022-07-17</td>\n",
       "      <td>NaN</td>\n",
       "      <td>0.0</td>\n",
       "      <td>NaN</td>\n",
       "      <td>Albania</td>\n",
       "      <td>Europe</td>\n",
       "    </tr>\n",
       "    <tr>\n",
       "      <th>3517</th>\n",
       "      <td>2022-07-17</td>\n",
       "      <td>21.0</td>\n",
       "      <td>0.0</td>\n",
       "      <td>NaN</td>\n",
       "      <td>Algeria</td>\n",
       "      <td>Africa</td>\n",
       "    </tr>\n",
       "    <tr>\n",
       "      <th>4388</th>\n",
       "      <td>2022-07-17</td>\n",
       "      <td>0.0</td>\n",
       "      <td>0.0</td>\n",
       "      <td>NaN</td>\n",
       "      <td>Andorra</td>\n",
       "      <td>Europe</td>\n",
       "    </tr>\n",
       "  </tbody>\n",
       "</table>\n",
       "</div>"
      ],
      "text/plain": [
       "            date  new_cases  new_deaths  new_vaccinations     location  \\\n",
       "874   2022-07-17      127.0         1.0               NaN  Afghanistan   \n",
       "1763  2022-07-17     1447.0        10.0               NaN       Africa   \n",
       "2640  2022-07-17        NaN         0.0               NaN      Albania   \n",
       "3517  2022-07-17       21.0         0.0               NaN      Algeria   \n",
       "4388  2022-07-17        0.0         0.0               NaN      Andorra   \n",
       "\n",
       "     continent  \n",
       "874       Asia  \n",
       "1763       NaN  \n",
       "2640    Europe  \n",
       "3517    Africa  \n",
       "4388    Europe  "
      ]
     },
     "execution_count": 14,
     "metadata": {},
     "output_type": "execute_result"
    }
   ],
   "source": [
    "df_newest.head()"
   ]
  },
  {
   "cell_type": "markdown",
   "metadata": {},
   "source": [
    "### 1.Soru a-) new cases\n"
   ]
  },
  {
   "cell_type": "code",
   "execution_count": 15,
   "metadata": {
    "tags": []
   },
   "outputs": [
    {
     "name": "stdout",
     "output_type": "stream",
     "text": [
      "              date  new_cases  new_deaths  new_vaccinations     location  \\\n",
      "200100  2022-07-17   447298.0       708.0               NaN        World   \n",
      "80131   2022-07-17   325698.0       391.0               NaN  High income   \n",
      "10548   2022-07-17   227651.0       292.0               NaN         Asia   \n",
      "\n",
      "       continent  \n",
      "200100       NaN  \n",
      "80131        NaN  \n",
      "10548        NaN  \n"
     ]
    }
   ],
   "source": [
    "df_sorted_newest = df_newest.sort_values(['new_cases'], ascending = [False]) \n",
    "print(df_sorted_newest [:3]) "
   ]
  },
  {
   "cell_type": "code",
   "execution_count": 16,
   "metadata": {},
   "outputs": [],
   "source": [
    "df_newest_top_three = df_sorted_newest['location']"
   ]
  },
  {
   "cell_type": "markdown",
   "metadata": {},
   "source": [
    "### En fazla yeni vakanın yaşandığı 3 ülke"
   ]
  },
  {
   "cell_type": "code",
   "execution_count": 17,
   "metadata": {},
   "outputs": [
    {
     "name": "stdout",
     "output_type": "stream",
     "text": [
      "200100          World\n",
      "80131     High income\n",
      "10548            Asia\n",
      "Name: location, dtype: object\n"
     ]
    }
   ],
   "source": [
    "print(df_newest_top_three[:3])"
   ]
  },
  {
   "cell_type": "markdown",
   "metadata": {},
   "source": [
    "### 1.Soru a-) new_deaths"
   ]
  },
  {
   "cell_type": "code",
   "execution_count": 18,
   "metadata": {
    "tags": []
   },
   "outputs": [
    {
     "name": "stdout",
     "output_type": "stream",
     "text": [
      "              date  new_cases  new_deaths  new_vaccinations     location  \\\n",
      "200100  2022-07-17   447298.0       708.0               NaN        World   \n",
      "80131   2022-07-17   325698.0       391.0               NaN  High income   \n",
      "10548   2022-07-17   227651.0       292.0               NaN         Asia   \n",
      "\n",
      "       continent  \n",
      "200100       NaN  \n",
      "80131        NaN  \n",
      "10548        NaN  \n"
     ]
    }
   ],
   "source": [
    "df_sort_deaths = df_newest.sort_values(['new_deaths'], ascending = [False]) \n",
    "print(df_sort_deaths [:3]) "
   ]
  },
  {
   "cell_type": "code",
   "execution_count": 19,
   "metadata": {},
   "outputs": [],
   "source": [
    "df_deaths_top_three = df_sort_deaths['location']"
   ]
  },
  {
   "cell_type": "markdown",
   "metadata": {},
   "source": [
    "### En fazla vefatın olduğu 3 ülke"
   ]
  },
  {
   "cell_type": "code",
   "execution_count": 20,
   "metadata": {},
   "outputs": [
    {
     "name": "stdout",
     "output_type": "stream",
     "text": [
      "200100          World\n",
      "80131     High income\n",
      "10548            Asia\n",
      "Name: location, dtype: object\n"
     ]
    }
   ],
   "source": [
    "print(df_deaths_top_three[:3])"
   ]
  },
  {
   "cell_type": "markdown",
   "metadata": {},
   "source": [
    "### 1.Soru a-) new_vaccinations"
   ]
  },
  {
   "cell_type": "code",
   "execution_count": 21,
   "metadata": {},
   "outputs": [
    {
     "name": "stdout",
     "output_type": "stream",
     "text": [
      "             date  new_cases  new_deaths  new_vaccinations    location  \\\n",
      "38326  2022-07-17      678.0         0.0          493000.0       China   \n",
      "93360  2022-07-17   105538.0        17.0          239804.0       Japan   \n",
      "15804  2022-07-17      900.0         4.0          124607.0  Bangladesh   \n",
      "\n",
      "      continent  \n",
      "38326      Asia  \n",
      "93360      Asia  \n",
      "15804      Asia  \n"
     ]
    }
   ],
   "source": [
    "df_sort_vacci = df_newest.sort_values(['new_vaccinations'], ascending = [False]) \n",
    "print(df_sort_vacci [:3]) "
   ]
  },
  {
   "cell_type": "code",
   "execution_count": 22,
   "metadata": {},
   "outputs": [],
   "source": [
    "df_vacci_top_three = df_sort_vacci['location']"
   ]
  },
  {
   "cell_type": "markdown",
   "metadata": {},
   "source": [
    "### En fazla aşılamanın olduğu 3 ülke"
   ]
  },
  {
   "cell_type": "code",
   "execution_count": 23,
   "metadata": {},
   "outputs": [
    {
     "name": "stdout",
     "output_type": "stream",
     "text": [
      "38326         China\n",
      "93360         Japan\n",
      "15804    Bangladesh\n",
      "Name: location, dtype: object\n"
     ]
    }
   ],
   "source": [
    "print(df_vacci_top_three[:3])"
   ]
  },
  {
   "cell_type": "code",
   "execution_count": null,
   "metadata": {},
   "outputs": [],
   "source": []
  },
  {
   "cell_type": "markdown",
   "metadata": {},
   "source": [
    "### 1.Soru b-) Kıta-Ülke-En fazla yeni vaka"
   ]
  },
  {
   "cell_type": "code",
   "execution_count": 24,
   "metadata": {
    "tags": []
   },
   "outputs": [
    {
     "data": {
      "text/html": [
       "<div>\n",
       "<style scoped>\n",
       "    .dataframe tbody tr th:only-of-type {\n",
       "        vertical-align: middle;\n",
       "    }\n",
       "\n",
       "    .dataframe tbody tr th {\n",
       "        vertical-align: top;\n",
       "    }\n",
       "\n",
       "    .dataframe thead th {\n",
       "        text-align: right;\n",
       "    }\n",
       "</style>\n",
       "<table border=\"1\" class=\"dataframe\">\n",
       "  <thead>\n",
       "    <tr style=\"text-align: right;\">\n",
       "      <th></th>\n",
       "      <th></th>\n",
       "      <th>date</th>\n",
       "      <th>new_deaths</th>\n",
       "      <th>new_vaccinations</th>\n",
       "      <th>location</th>\n",
       "    </tr>\n",
       "    <tr>\n",
       "      <th>continent</th>\n",
       "      <th>new_cases</th>\n",
       "      <th></th>\n",
       "      <th></th>\n",
       "      <th></th>\n",
       "      <th></th>\n",
       "    </tr>\n",
       "  </thead>\n",
       "  <tbody>\n",
       "    <tr>\n",
       "      <th rowspan=\"5\" valign=\"top\">Africa</th>\n",
       "      <th>0.0</th>\n",
       "      <td>2022-07-17</td>\n",
       "      <td>0.0</td>\n",
       "      <td>NaN</td>\n",
       "      <td>Angola</td>\n",
       "    </tr>\n",
       "    <tr>\n",
       "      <th>2.0</th>\n",
       "      <td>2022-07-17</td>\n",
       "      <td>0.0</td>\n",
       "      <td>NaN</td>\n",
       "      <td>Mali</td>\n",
       "    </tr>\n",
       "    <tr>\n",
       "      <th>9.0</th>\n",
       "      <td>2022-07-17</td>\n",
       "      <td>0.0</td>\n",
       "      <td>NaN</td>\n",
       "      <td>Cape Verde</td>\n",
       "    </tr>\n",
       "    <tr>\n",
       "      <th>14.0</th>\n",
       "      <td>2022-07-17</td>\n",
       "      <td>0.0</td>\n",
       "      <td>NaN</td>\n",
       "      <td>Eritrea</td>\n",
       "    </tr>\n",
       "    <tr>\n",
       "      <th>18.0</th>\n",
       "      <td>2022-07-17</td>\n",
       "      <td>0.0</td>\n",
       "      <td>NaN</td>\n",
       "      <td>Mozambique</td>\n",
       "    </tr>\n",
       "    <tr>\n",
       "      <th>...</th>\n",
       "      <th>...</th>\n",
       "      <td>...</td>\n",
       "      <td>...</td>\n",
       "      <td>...</td>\n",
       "      <td>...</td>\n",
       "    </tr>\n",
       "    <tr>\n",
       "      <th rowspan=\"5\" valign=\"top\">South America</th>\n",
       "      <th>672.0</th>\n",
       "      <td>2022-07-17</td>\n",
       "      <td>1.0</td>\n",
       "      <td>NaN</td>\n",
       "      <td>Venezuela</td>\n",
       "    </tr>\n",
       "    <tr>\n",
       "      <th>1440.0</th>\n",
       "      <td>2022-07-17</td>\n",
       "      <td>3.0</td>\n",
       "      <td>NaN</td>\n",
       "      <td>Bolivia</td>\n",
       "    </tr>\n",
       "    <tr>\n",
       "      <th>6920.0</th>\n",
       "      <td>2022-07-17</td>\n",
       "      <td>47.0</td>\n",
       "      <td>1488.0</td>\n",
       "      <td>Chile</td>\n",
       "    </tr>\n",
       "    <tr>\n",
       "      <th>10852.0</th>\n",
       "      <td>2022-07-17</td>\n",
       "      <td>55.0</td>\n",
       "      <td>74709.0</td>\n",
       "      <td>Brazil</td>\n",
       "    </tr>\n",
       "    <tr>\n",
       "      <th>39656.0</th>\n",
       "      <td>2022-07-17</td>\n",
       "      <td>57.0</td>\n",
       "      <td>8835.0</td>\n",
       "      <td>Argentina</td>\n",
       "    </tr>\n",
       "  </tbody>\n",
       "</table>\n",
       "<p>86 rows × 4 columns</p>\n",
       "</div>"
      ],
      "text/plain": [
       "                               date  new_deaths  new_vaccinations    location\n",
       "continent     new_cases                                                      \n",
       "Africa        0.0        2022-07-17         0.0               NaN      Angola\n",
       "              2.0        2022-07-17         0.0               NaN        Mali\n",
       "              9.0        2022-07-17         0.0               NaN  Cape Verde\n",
       "              14.0       2022-07-17         0.0               NaN     Eritrea\n",
       "              18.0       2022-07-17         0.0               NaN  Mozambique\n",
       "...                             ...         ...               ...         ...\n",
       "South America 672.0      2022-07-17         1.0               NaN   Venezuela\n",
       "              1440.0     2022-07-17         3.0               NaN     Bolivia\n",
       "              6920.0     2022-07-17        47.0            1488.0       Chile\n",
       "              10852.0    2022-07-17        55.0           74709.0      Brazil\n",
       "              39656.0    2022-07-17        57.0            8835.0   Argentina\n",
       "\n",
       "[86 rows x 4 columns]"
      ]
     },
     "execution_count": 24,
     "metadata": {},
     "output_type": "execute_result"
    }
   ],
   "source": [
    "#gkk = df_newest.groupby(['continent'])\n",
    "\n",
    "# df_newest.groupby([\"continent\"]).head()\n",
    "\n",
    "gkk = df_newest.groupby(['continent', 'new_cases'])\n",
    "  \n",
    "# Print the first value in each group\n",
    "gkk.first()"
   ]
  },
  {
   "cell_type": "code",
   "execution_count": 25,
   "metadata": {},
   "outputs": [],
   "source": [
    "# df_sorted_newest_conti = gkk.sort_values(['new_cases'], ascending = [False]) \n",
    "#print(df_sorted_newest_conti [:3]) \n",
    "\n",
    "df2=df_newest.sort_values(['continent','new_cases'],ascending=False).groupby('continent').head(1)\n"
   ]
  },
  {
   "cell_type": "markdown",
   "metadata": {},
   "source": [
    "### Her kıtanın en fazla yeni vaka olan ülesi"
   ]
  },
  {
   "cell_type": "code",
   "execution_count": 26,
   "metadata": {},
   "outputs": [
    {
     "data": {
      "text/html": [
       "<div>\n",
       "<style scoped>\n",
       "    .dataframe tbody tr th:only-of-type {\n",
       "        vertical-align: middle;\n",
       "    }\n",
       "\n",
       "    .dataframe tbody tr th {\n",
       "        vertical-align: top;\n",
       "    }\n",
       "\n",
       "    .dataframe thead th {\n",
       "        text-align: right;\n",
       "    }\n",
       "</style>\n",
       "<table border=\"1\" class=\"dataframe\">\n",
       "  <thead>\n",
       "    <tr style=\"text-align: right;\">\n",
       "      <th></th>\n",
       "      <th>date</th>\n",
       "      <th>new_cases</th>\n",
       "      <th>new_deaths</th>\n",
       "      <th>new_vaccinations</th>\n",
       "      <th>location</th>\n",
       "      <th>continent</th>\n",
       "    </tr>\n",
       "  </thead>\n",
       "  <tbody>\n",
       "    <tr>\n",
       "      <th>7878</th>\n",
       "      <td>2022-07-17</td>\n",
       "      <td>39656.0</td>\n",
       "      <td>57.0</td>\n",
       "      <td>8835.0</td>\n",
       "      <td>Argentina</td>\n",
       "      <td>South America</td>\n",
       "    </tr>\n",
       "    <tr>\n",
       "      <th>11455</th>\n",
       "      <td>2022-07-17</td>\n",
       "      <td>37787.0</td>\n",
       "      <td>26.0</td>\n",
       "      <td>3327.0</td>\n",
       "      <td>Australia</td>\n",
       "      <td>Oceania</td>\n",
       "    </tr>\n",
       "    <tr>\n",
       "      <th>191847</th>\n",
       "      <td>2022-07-17</td>\n",
       "      <td>18811.0</td>\n",
       "      <td>27.0</td>\n",
       "      <td>NaN</td>\n",
       "      <td>United States</td>\n",
       "      <td>North America</td>\n",
       "    </tr>\n",
       "    <tr>\n",
       "      <th>91587</th>\n",
       "      <td>2022-07-17</td>\n",
       "      <td>68996.0</td>\n",
       "      <td>79.0</td>\n",
       "      <td>5691.0</td>\n",
       "      <td>Italy</td>\n",
       "      <td>Europe</td>\n",
       "    </tr>\n",
       "    <tr>\n",
       "      <th>93360</th>\n",
       "      <td>2022-07-17</td>\n",
       "      <td>105538.0</td>\n",
       "      <td>17.0</td>\n",
       "      <td>239804.0</td>\n",
       "      <td>Japan</td>\n",
       "      <td>Asia</td>\n",
       "    </tr>\n",
       "    <tr>\n",
       "      <th>124285</th>\n",
       "      <td>2022-07-17</td>\n",
       "      <td>787.0</td>\n",
       "      <td>6.0</td>\n",
       "      <td>NaN</td>\n",
       "      <td>Morocco</td>\n",
       "      <td>Africa</td>\n",
       "    </tr>\n",
       "    <tr>\n",
       "      <th>200100</th>\n",
       "      <td>2022-07-17</td>\n",
       "      <td>447298.0</td>\n",
       "      <td>708.0</td>\n",
       "      <td>NaN</td>\n",
       "      <td>World</td>\n",
       "      <td>NaN</td>\n",
       "    </tr>\n",
       "  </tbody>\n",
       "</table>\n",
       "</div>"
      ],
      "text/plain": [
       "              date  new_cases  new_deaths  new_vaccinations       location  \\\n",
       "7878    2022-07-17    39656.0        57.0            8835.0      Argentina   \n",
       "11455   2022-07-17    37787.0        26.0            3327.0      Australia   \n",
       "191847  2022-07-17    18811.0        27.0               NaN  United States   \n",
       "91587   2022-07-17    68996.0        79.0            5691.0          Italy   \n",
       "93360   2022-07-17   105538.0        17.0          239804.0          Japan   \n",
       "124285  2022-07-17      787.0         6.0               NaN        Morocco   \n",
       "200100  2022-07-17   447298.0       708.0               NaN          World   \n",
       "\n",
       "            continent  \n",
       "7878    South America  \n",
       "11455         Oceania  \n",
       "191847  North America  \n",
       "91587          Europe  \n",
       "93360            Asia  \n",
       "124285         Africa  \n",
       "200100            NaN  "
      ]
     },
     "execution_count": 26,
     "metadata": {},
     "output_type": "execute_result"
    }
   ],
   "source": [
    "df2"
   ]
  },
  {
   "cell_type": "markdown",
   "metadata": {},
   "source": [
    "## 1.Soru c-) Asya-Avrupa-Afrika- new vacc."
   ]
  },
  {
   "cell_type": "code",
   "execution_count": 27,
   "metadata": {},
   "outputs": [
    {
     "data": {
      "text/html": [
       "<div>\n",
       "<style scoped>\n",
       "    .dataframe tbody tr th:only-of-type {\n",
       "        vertical-align: middle;\n",
       "    }\n",
       "\n",
       "    .dataframe tbody tr th {\n",
       "        vertical-align: top;\n",
       "    }\n",
       "\n",
       "    .dataframe thead th {\n",
       "        text-align: right;\n",
       "    }\n",
       "</style>\n",
       "<table border=\"1\" class=\"dataframe\">\n",
       "  <thead>\n",
       "    <tr style=\"text-align: right;\">\n",
       "      <th></th>\n",
       "      <th>date</th>\n",
       "      <th>new_cases</th>\n",
       "      <th>new_deaths</th>\n",
       "      <th>new_vaccinations</th>\n",
       "      <th>location</th>\n",
       "      <th>continent</th>\n",
       "    </tr>\n",
       "  </thead>\n",
       "  <tbody>\n",
       "    <tr>\n",
       "      <th>25985</th>\n",
       "      <td>2022-02-03</td>\n",
       "      <td>287149.0</td>\n",
       "      <td>1000.0</td>\n",
       "      <td>1374578.0</td>\n",
       "      <td>Brazil</td>\n",
       "      <td>South America</td>\n",
       "    </tr>\n",
       "    <tr>\n",
       "      <th>11269</th>\n",
       "      <td>2022-01-12</td>\n",
       "      <td>175271.0</td>\n",
       "      <td>57.0</td>\n",
       "      <td>345035.0</td>\n",
       "      <td>Australia</td>\n",
       "      <td>Oceania</td>\n",
       "    </tr>\n",
       "    <tr>\n",
       "      <th>191659</th>\n",
       "      <td>2022-01-10</td>\n",
       "      <td>1383889.0</td>\n",
       "      <td>2014.0</td>\n",
       "      <td>1259249.0</td>\n",
       "      <td>United States</td>\n",
       "      <td>North America</td>\n",
       "    </tr>\n",
       "    <tr>\n",
       "      <th>69126</th>\n",
       "      <td>2022-03-31</td>\n",
       "      <td>527487.0</td>\n",
       "      <td>596.0</td>\n",
       "      <td>181554.0</td>\n",
       "      <td>Germany</td>\n",
       "      <td>Europe</td>\n",
       "    </tr>\n",
       "    <tr>\n",
       "      <th>170337</th>\n",
       "      <td>2022-03-16</td>\n",
       "      <td>621317.0</td>\n",
       "      <td>429.0</td>\n",
       "      <td>53798.0</td>\n",
       "      <td>South Korea</td>\n",
       "      <td>Asia</td>\n",
       "    </tr>\n",
       "  </tbody>\n",
       "</table>\n",
       "</div>"
      ],
      "text/plain": [
       "              date  new_cases  new_deaths  new_vaccinations       location  \\\n",
       "25985   2022-02-03   287149.0      1000.0         1374578.0         Brazil   \n",
       "11269   2022-01-12   175271.0        57.0          345035.0      Australia   \n",
       "191659  2022-01-10  1383889.0      2014.0         1259249.0  United States   \n",
       "69126   2022-03-31   527487.0       596.0          181554.0        Germany   \n",
       "170337  2022-03-16   621317.0       429.0           53798.0    South Korea   \n",
       "\n",
       "            continent  \n",
       "25985   South America  \n",
       "11269         Oceania  \n",
       "191659  North America  \n",
       "69126          Europe  \n",
       "170337           Asia  "
      ]
     },
     "execution_count": 27,
     "metadata": {},
     "output_type": "execute_result"
    }
   ],
   "source": [
    "df2=df_new.sort_values(['continent','new_cases'],ascending=False).groupby('continent').head(1)\n",
    "df2.head()"
   ]
  },
  {
   "cell_type": "code",
   "execution_count": 28,
   "metadata": {
    "tags": []
   },
   "outputs": [
    {
     "data": {
      "text/html": [
       "<div>\n",
       "<style scoped>\n",
       "    .dataframe tbody tr th:only-of-type {\n",
       "        vertical-align: middle;\n",
       "    }\n",
       "\n",
       "    .dataframe tbody tr th {\n",
       "        vertical-align: top;\n",
       "    }\n",
       "\n",
       "    .dataframe thead th {\n",
       "        text-align: right;\n",
       "    }\n",
       "</style>\n",
       "<table border=\"1\" class=\"dataframe\">\n",
       "  <thead>\n",
       "    <tr style=\"text-align: right;\">\n",
       "      <th></th>\n",
       "      <th>continent</th>\n",
       "      <th>new_vaccinations</th>\n",
       "      <th>date</th>\n",
       "    </tr>\n",
       "  </thead>\n",
       "  <tbody>\n",
       "    <tr>\n",
       "      <th>25985</th>\n",
       "      <td>South America</td>\n",
       "      <td>1374578.0</td>\n",
       "      <td>2022-02-03</td>\n",
       "    </tr>\n",
       "    <tr>\n",
       "      <th>11269</th>\n",
       "      <td>Oceania</td>\n",
       "      <td>345035.0</td>\n",
       "      <td>2022-01-12</td>\n",
       "    </tr>\n",
       "    <tr>\n",
       "      <th>191659</th>\n",
       "      <td>North America</td>\n",
       "      <td>1259249.0</td>\n",
       "      <td>2022-01-10</td>\n",
       "    </tr>\n",
       "    <tr>\n",
       "      <th>69126</th>\n",
       "      <td>Europe</td>\n",
       "      <td>181554.0</td>\n",
       "      <td>2022-03-31</td>\n",
       "    </tr>\n",
       "    <tr>\n",
       "      <th>170337</th>\n",
       "      <td>Asia</td>\n",
       "      <td>53798.0</td>\n",
       "      <td>2022-03-16</td>\n",
       "    </tr>\n",
       "  </tbody>\n",
       "</table>\n",
       "</div>"
      ],
      "text/plain": [
       "            continent  new_vaccinations        date\n",
       "25985   South America         1374578.0  2022-02-03\n",
       "11269         Oceania          345035.0  2022-01-12\n",
       "191659  North America         1259249.0  2022-01-10\n",
       "69126          Europe          181554.0  2022-03-31\n",
       "170337           Asia           53798.0  2022-03-16"
      ]
     },
     "execution_count": 28,
     "metadata": {},
     "output_type": "execute_result"
    }
   ],
   "source": [
    "df_last_question = df2[['continent', 'new_vaccinations','date']]\n",
    "df_last_question.head()"
   ]
  },
  {
   "cell_type": "markdown",
   "metadata": {},
   "source": [
    "### Avrupa,  Asya ve Afrika kıtaları için, günlük aşı sayıları(new_vaccinations)"
   ]
  },
  {
   "cell_type": "code",
   "execution_count": 36,
   "metadata": {},
   "outputs": [
    {
     "data": {
      "text/html": [
       "<div>\n",
       "<style scoped>\n",
       "    .dataframe tbody tr th:only-of-type {\n",
       "        vertical-align: middle;\n",
       "    }\n",
       "\n",
       "    .dataframe tbody tr th {\n",
       "        vertical-align: top;\n",
       "    }\n",
       "\n",
       "    .dataframe thead th {\n",
       "        text-align: right;\n",
       "    }\n",
       "</style>\n",
       "<table border=\"1\" class=\"dataframe\">\n",
       "  <thead>\n",
       "    <tr style=\"text-align: right;\">\n",
       "      <th></th>\n",
       "      <th>continent</th>\n",
       "      <th>new_vaccinations</th>\n",
       "      <th>date</th>\n",
       "    </tr>\n",
       "  </thead>\n",
       "  <tbody>\n",
       "    <tr>\n",
       "      <th>69126</th>\n",
       "      <td>Europe</td>\n",
       "      <td>181554.0</td>\n",
       "      <td>2022-03-31</td>\n",
       "    </tr>\n",
       "    <tr>\n",
       "      <th>170337</th>\n",
       "      <td>Asia</td>\n",
       "      <td>53798.0</td>\n",
       "      <td>2022-03-16</td>\n",
       "    </tr>\n",
       "    <tr>\n",
       "      <th>25164</th>\n",
       "      <td>Africa</td>\n",
       "      <td>NaN</td>\n",
       "      <td>2022-03-30</td>\n",
       "    </tr>\n",
       "  </tbody>\n",
       "</table>\n",
       "</div>"
      ],
      "text/plain": [
       "       continent  new_vaccinations        date\n",
       "69126     Europe          181554.0  2022-03-31\n",
       "170337      Asia           53798.0  2022-03-16\n",
       "25164     Africa               NaN  2022-03-30"
      ]
     },
     "execution_count": 36,
     "metadata": {},
     "output_type": "execute_result"
    }
   ],
   "source": [
    "grafikLast = df_last_question.loc[(df_last_question['continent'] == 'Europe') |\n",
    "                                  (df_last_question['continent'] == 'Africa') |\n",
    "                                  (df_last_question['continent'] == 'Asia')]\n",
    "\n",
    "grafikLast.head()"
   ]
  },
  {
   "cell_type": "code",
   "execution_count": 44,
   "metadata": {},
   "outputs": [
    {
     "data": {
      "image/png": "[encoded data removed]",
      "text/plain": [
       "<Figure size 432x288 with 1 Axes>"
      ]
     },
     "metadata": {
      "needs_background": "light"
     },
     "output_type": "display_data"
    }
   ],
   "source": [
    "#sns.lineplot(x=grafikLast[\"date\"], y=grafikLast[\"new_vaccinations\"],hue=\"continent\", data=grafikLast)\n",
    "\n",
    "ax = sns.lineplot(x=df['date'], y=grafikLast['new_vaccinations'])\n"
   ]
  },
  {
   "cell_type": "code",
   "execution_count": 46,
   "metadata": {},
   "outputs": [
    {
     "data": {
      "text/plain": [
       "<AxesSubplot:xlabel='date', ylabel='new_vaccinations'>"
      ]
     },
     "execution_count": 46,
     "metadata": {},
     "output_type": "execute_result"
    },
    {
     "data": {
      "image/png": "[encoded data removed]",
      "text/plain": [
       "<Figure size 432x288 with 1 Axes>"
      ]
     },
     "metadata": {
      "needs_background": "light"
     },
     "output_type": "display_data"
    }
   ],
   "source": [
    "\n",
    "sns.lineplot(x=df_last_question[\"date\"], y=df_last_question[\"new_vaccinations\"],hue=grafikLast[\"continent\"], data=df_last_question)"
   ]
  },
  {
   "cell_type": "code",
   "execution_count": 256,
   "metadata": {},
   "outputs": [
    {
     "data": {
      "text/html": [
       "<div>\n",
       "<style scoped>\n",
       "    .dataframe tbody tr th:only-of-type {\n",
       "        vertical-align: middle;\n",
       "    }\n",
       "\n",
       "    .dataframe tbody tr th {\n",
       "        vertical-align: top;\n",
       "    }\n",
       "\n",
       "    .dataframe thead th {\n",
       "        text-align: right;\n",
       "    }\n",
       "</style>\n",
       "<table border=\"1\" class=\"dataframe\">\n",
       "  <thead>\n",
       "    <tr style=\"text-align: right;\">\n",
       "      <th></th>\n",
       "      <th>continent</th>\n",
       "      <th>new_vaccinations</th>\n",
       "      <th>date</th>\n",
       "    </tr>\n",
       "  </thead>\n",
       "  <tbody>\n",
       "    <tr>\n",
       "      <th>91587</th>\n",
       "      <td>Europe</td>\n",
       "      <td>5691.0</td>\n",
       "      <td>2022-07-17</td>\n",
       "    </tr>\n",
       "  </tbody>\n",
       "</table>\n",
       "</div>"
      ],
      "text/plain": [
       "      continent  new_vaccinations        date\n",
       "91587    Europe            5691.0  2022-07-17"
      ]
     },
     "execution_count": 256,
     "metadata": {},
     "output_type": "execute_result"
    }
   ],
   "source": [
    "grafik1 = df_last_question.loc[(df_last_question['continent'] == 'Europe')]\n",
    "grafik1"
   ]
  },
  {
   "cell_type": "code",
   "execution_count": 164,
   "metadata": {},
   "outputs": [],
   "source": [
    "grafik2 = df_last_question.loc[(df_last_question['continent'] == 'Asia')]"
   ]
  },
  {
   "cell_type": "code",
   "execution_count": 254,
   "metadata": {},
   "outputs": [
    {
     "data": {
      "text/html": [
       "<div>\n",
       "<style scoped>\n",
       "    .dataframe tbody tr th:only-of-type {\n",
       "        vertical-align: middle;\n",
       "    }\n",
       "\n",
       "    .dataframe tbody tr th {\n",
       "        vertical-align: top;\n",
       "    }\n",
       "\n",
       "    .dataframe thead th {\n",
       "        text-align: right;\n",
       "    }\n",
       "</style>\n",
       "<table border=\"1\" class=\"dataframe\">\n",
       "  <thead>\n",
       "    <tr style=\"text-align: right;\">\n",
       "      <th></th>\n",
       "      <th>continent</th>\n",
       "      <th>new_vaccinations</th>\n",
       "    </tr>\n",
       "  </thead>\n",
       "  <tbody>\n",
       "    <tr>\n",
       "      <th>93360</th>\n",
       "      <td>Asia</td>\n",
       "      <td>239804.0</td>\n",
       "    </tr>\n",
       "    <tr>\n",
       "      <th>170460</th>\n",
       "      <td>Asia</td>\n",
       "      <td>237.0</td>\n",
       "    </tr>\n",
       "    <tr>\n",
       "      <th>178369</th>\n",
       "      <td>Asia</td>\n",
       "      <td>NaN</td>\n",
       "    </tr>\n",
       "  </tbody>\n",
       "</table>\n",
       "</div>"
      ],
      "text/plain": [
       "       continent  new_vaccinations\n",
       "93360       Asia          239804.0\n",
       "170460      Asia             237.0\n",
       "178369      Asia               NaN"
      ]
     },
     "execution_count": 254,
     "metadata": {},
     "output_type": "execute_result"
    }
   ],
   "source": [
    "grafik2"
   ]
  },
  {
   "cell_type": "code",
   "execution_count": 165,
   "metadata": {},
   "outputs": [],
   "source": [
    "grafik3 = df_last_question.loc[(df_last_question['continent'] == 'Africa')]"
   ]
  },
  {
   "cell_type": "code",
   "execution_count": 255,
   "metadata": {},
   "outputs": [
    {
     "data": {
      "text/html": [
       "<div>\n",
       "<style scoped>\n",
       "    .dataframe tbody tr th:only-of-type {\n",
       "        vertical-align: middle;\n",
       "    }\n",
       "\n",
       "    .dataframe tbody tr th {\n",
       "        vertical-align: top;\n",
       "    }\n",
       "\n",
       "    .dataframe thead th {\n",
       "        text-align: right;\n",
       "    }\n",
       "</style>\n",
       "<table border=\"1\" class=\"dataframe\">\n",
       "  <thead>\n",
       "    <tr style=\"text-align: right;\">\n",
       "      <th></th>\n",
       "      <th>continent</th>\n",
       "      <th>new_vaccinations</th>\n",
       "    </tr>\n",
       "  </thead>\n",
       "  <tbody>\n",
       "    <tr>\n",
       "      <th>124285</th>\n",
       "      <td>Africa</td>\n",
       "      <td>NaN</td>\n",
       "    </tr>\n",
       "    <tr>\n",
       "      <th>110747</th>\n",
       "      <td>Africa</td>\n",
       "      <td>NaN</td>\n",
       "    </tr>\n",
       "    <tr>\n",
       "      <th>43018</th>\n",
       "      <td>Africa</td>\n",
       "      <td>NaN</td>\n",
       "    </tr>\n",
       "  </tbody>\n",
       "</table>\n",
       "</div>"
      ],
      "text/plain": [
       "       continent  new_vaccinations\n",
       "124285    Africa               NaN\n",
       "110747    Africa               NaN\n",
       "43018     Africa               NaN"
      ]
     },
     "execution_count": 255,
     "metadata": {},
     "output_type": "execute_result"
    }
   ],
   "source": [
    "grafik3"
   ]
  },
  {
   "cell_type": "code",
   "execution_count": null,
   "metadata": {},
   "outputs": [],
   "source": []
  },
  {
   "cell_type": "markdown",
   "metadata": {},
   "source": [
    "## 2. Soru- Telekom Veriseti"
   ]
  },
  {
   "cell_type": "code",
   "execution_count": 186,
   "metadata": {},
   "outputs": [],
   "source": [
    "df_tel=pd.read_csv('churn_df.csv')"
   ]
  },
  {
   "cell_type": "markdown",
   "metadata": {},
   "source": [
    "### 2.Soru a-)"
   ]
  },
  {
   "cell_type": "code",
   "execution_count": 187,
   "metadata": {},
   "outputs": [
    {
     "data": {
      "text/html": [
       "<div>\n",
       "<style scoped>\n",
       "    .dataframe tbody tr th:only-of-type {\n",
       "        vertical-align: middle;\n",
       "    }\n",
       "\n",
       "    .dataframe tbody tr th {\n",
       "        vertical-align: top;\n",
       "    }\n",
       "\n",
       "    .dataframe thead th {\n",
       "        text-align: right;\n",
       "    }\n",
       "</style>\n",
       "<table border=\"1\" class=\"dataframe\">\n",
       "  <thead>\n",
       "    <tr style=\"text-align: right;\">\n",
       "      <th></th>\n",
       "      <th>account_length</th>\n",
       "      <th>area_code</th>\n",
       "      <th>international_plan</th>\n",
       "      <th>voice_mail_plan</th>\n",
       "      <th>number_vmail_messages</th>\n",
       "      <th>total_day_minutes</th>\n",
       "      <th>total_day_calls</th>\n",
       "      <th>total_day_charge</th>\n",
       "      <th>total_eve_minutes</th>\n",
       "      <th>total_eve_calls</th>\n",
       "      <th>total_eve_charge</th>\n",
       "      <th>total_night_minutes</th>\n",
       "      <th>total_night_calls</th>\n",
       "      <th>total_night_charge</th>\n",
       "      <th>total_intl_minutes</th>\n",
       "      <th>total_intl_calls</th>\n",
       "      <th>total_intl_charge</th>\n",
       "      <th>customer_service_calls</th>\n",
       "      <th>churn</th>\n",
       "    </tr>\n",
       "  </thead>\n",
       "  <tbody>\n",
       "    <tr>\n",
       "      <th>0</th>\n",
       "      <td>128</td>\n",
       "      <td>415</td>\n",
       "      <td>0</td>\n",
       "      <td>1</td>\n",
       "      <td>25</td>\n",
       "      <td>265.1</td>\n",
       "      <td>110</td>\n",
       "      <td>45.07</td>\n",
       "      <td>197.4</td>\n",
       "      <td>99</td>\n",
       "      <td>16.78</td>\n",
       "      <td>244.7</td>\n",
       "      <td>91</td>\n",
       "      <td>11.01</td>\n",
       "      <td>10.0</td>\n",
       "      <td>3</td>\n",
       "      <td>2.70</td>\n",
       "      <td>1</td>\n",
       "      <td>0</td>\n",
       "    </tr>\n",
       "    <tr>\n",
       "      <th>1</th>\n",
       "      <td>107</td>\n",
       "      <td>415</td>\n",
       "      <td>0</td>\n",
       "      <td>1</td>\n",
       "      <td>26</td>\n",
       "      <td>161.6</td>\n",
       "      <td>123</td>\n",
       "      <td>27.47</td>\n",
       "      <td>195.5</td>\n",
       "      <td>103</td>\n",
       "      <td>16.62</td>\n",
       "      <td>254.4</td>\n",
       "      <td>103</td>\n",
       "      <td>11.45</td>\n",
       "      <td>13.7</td>\n",
       "      <td>3</td>\n",
       "      <td>3.70</td>\n",
       "      <td>1</td>\n",
       "      <td>0</td>\n",
       "    </tr>\n",
       "    <tr>\n",
       "      <th>2</th>\n",
       "      <td>137</td>\n",
       "      <td>415</td>\n",
       "      <td>0</td>\n",
       "      <td>0</td>\n",
       "      <td>0</td>\n",
       "      <td>243.4</td>\n",
       "      <td>114</td>\n",
       "      <td>41.38</td>\n",
       "      <td>121.2</td>\n",
       "      <td>110</td>\n",
       "      <td>10.30</td>\n",
       "      <td>162.6</td>\n",
       "      <td>104</td>\n",
       "      <td>7.32</td>\n",
       "      <td>12.2</td>\n",
       "      <td>5</td>\n",
       "      <td>3.29</td>\n",
       "      <td>0</td>\n",
       "      <td>0</td>\n",
       "    </tr>\n",
       "    <tr>\n",
       "      <th>3</th>\n",
       "      <td>84</td>\n",
       "      <td>408</td>\n",
       "      <td>1</td>\n",
       "      <td>0</td>\n",
       "      <td>0</td>\n",
       "      <td>299.4</td>\n",
       "      <td>71</td>\n",
       "      <td>50.90</td>\n",
       "      <td>61.9</td>\n",
       "      <td>88</td>\n",
       "      <td>5.26</td>\n",
       "      <td>196.9</td>\n",
       "      <td>89</td>\n",
       "      <td>8.86</td>\n",
       "      <td>6.6</td>\n",
       "      <td>7</td>\n",
       "      <td>1.78</td>\n",
       "      <td>2</td>\n",
       "      <td>0</td>\n",
       "    </tr>\n",
       "    <tr>\n",
       "      <th>4</th>\n",
       "      <td>75</td>\n",
       "      <td>415</td>\n",
       "      <td>1</td>\n",
       "      <td>0</td>\n",
       "      <td>0</td>\n",
       "      <td>166.7</td>\n",
       "      <td>113</td>\n",
       "      <td>28.34</td>\n",
       "      <td>148.3</td>\n",
       "      <td>122</td>\n",
       "      <td>12.61</td>\n",
       "      <td>186.9</td>\n",
       "      <td>121</td>\n",
       "      <td>8.41</td>\n",
       "      <td>10.1</td>\n",
       "      <td>3</td>\n",
       "      <td>2.73</td>\n",
       "      <td>3</td>\n",
       "      <td>0</td>\n",
       "    </tr>\n",
       "  </tbody>\n",
       "</table>\n",
       "</div>"
      ],
      "text/plain": [
       "   account_length  area_code  international_plan  voice_mail_plan  \\\n",
       "0             128        415                   0                1   \n",
       "1             107        415                   0                1   \n",
       "2             137        415                   0                0   \n",
       "3              84        408                   1                0   \n",
       "4              75        415                   1                0   \n",
       "\n",
       "   number_vmail_messages  total_day_minutes  total_day_calls  \\\n",
       "0                     25              265.1              110   \n",
       "1                     26              161.6              123   \n",
       "2                      0              243.4              114   \n",
       "3                      0              299.4               71   \n",
       "4                      0              166.7              113   \n",
       "\n",
       "   total_day_charge  total_eve_minutes  total_eve_calls  total_eve_charge  \\\n",
       "0             45.07              197.4               99             16.78   \n",
       "1             27.47              195.5              103             16.62   \n",
       "2             41.38              121.2              110             10.30   \n",
       "3             50.90               61.9               88              5.26   \n",
       "4             28.34              148.3              122             12.61   \n",
       "\n",
       "   total_night_minutes  total_night_calls  total_night_charge  \\\n",
       "0                244.7                 91               11.01   \n",
       "1                254.4                103               11.45   \n",
       "2                162.6                104                7.32   \n",
       "3                196.9                 89                8.86   \n",
       "4                186.9                121                8.41   \n",
       "\n",
       "   total_intl_minutes  total_intl_calls  total_intl_charge  \\\n",
       "0                10.0                 3               2.70   \n",
       "1                13.7                 3               3.70   \n",
       "2                12.2                 5               3.29   \n",
       "3                 6.6                 7               1.78   \n",
       "4                10.1                 3               2.73   \n",
       "\n",
       "   customer_service_calls  churn  \n",
       "0                       1      0  \n",
       "1                       1      0  \n",
       "2                       0      0  \n",
       "3                       2      0  \n",
       "4                       3      0  "
      ]
     },
     "execution_count": 187,
     "metadata": {},
     "output_type": "execute_result"
    }
   ],
   "source": [
    "df_tel.head()"
   ]
  },
  {
   "cell_type": "code",
   "execution_count": 215,
   "metadata": {},
   "outputs": [],
   "source": [
    "X=df_tel[[\"total_day_charge\",\"total_eve_charge\"]]"
   ]
  },
  {
   "cell_type": "code",
   "execution_count": 216,
   "metadata": {},
   "outputs": [
    {
     "data": {
      "text/html": [
       "<div>\n",
       "<style scoped>\n",
       "    .dataframe tbody tr th:only-of-type {\n",
       "        vertical-align: middle;\n",
       "    }\n",
       "\n",
       "    .dataframe tbody tr th {\n",
       "        vertical-align: top;\n",
       "    }\n",
       "\n",
       "    .dataframe thead th {\n",
       "        text-align: right;\n",
       "    }\n",
       "</style>\n",
       "<table border=\"1\" class=\"dataframe\">\n",
       "  <thead>\n",
       "    <tr style=\"text-align: right;\">\n",
       "      <th></th>\n",
       "      <th>total_day_charge</th>\n",
       "      <th>total_eve_charge</th>\n",
       "    </tr>\n",
       "  </thead>\n",
       "  <tbody>\n",
       "    <tr>\n",
       "      <th>0</th>\n",
       "      <td>45.07</td>\n",
       "      <td>16.78</td>\n",
       "    </tr>\n",
       "    <tr>\n",
       "      <th>1</th>\n",
       "      <td>27.47</td>\n",
       "      <td>16.62</td>\n",
       "    </tr>\n",
       "    <tr>\n",
       "      <th>2</th>\n",
       "      <td>41.38</td>\n",
       "      <td>10.30</td>\n",
       "    </tr>\n",
       "    <tr>\n",
       "      <th>3</th>\n",
       "      <td>50.90</td>\n",
       "      <td>5.26</td>\n",
       "    </tr>\n",
       "    <tr>\n",
       "      <th>4</th>\n",
       "      <td>28.34</td>\n",
       "      <td>12.61</td>\n",
       "    </tr>\n",
       "  </tbody>\n",
       "</table>\n",
       "</div>"
      ],
      "text/plain": [
       "   total_day_charge  total_eve_charge\n",
       "0             45.07             16.78\n",
       "1             27.47             16.62\n",
       "2             41.38             10.30\n",
       "3             50.90              5.26\n",
       "4             28.34             12.61"
      ]
     },
     "execution_count": 216,
     "metadata": {},
     "output_type": "execute_result"
    }
   ],
   "source": [
    "X.head()"
   ]
  },
  {
   "cell_type": "code",
   "execution_count": 238,
   "metadata": {},
   "outputs": [
    {
     "data": {
      "text/plain": [
       "(3333, 2)"
      ]
     },
     "execution_count": 238,
     "metadata": {},
     "output_type": "execute_result"
    }
   ],
   "source": [
    "X.shape"
   ]
  },
  {
   "cell_type": "code",
   "execution_count": 219,
   "metadata": {},
   "outputs": [],
   "source": [
    "y=df_tel[\"churn\"]"
   ]
  },
  {
   "cell_type": "code",
   "execution_count": 220,
   "metadata": {},
   "outputs": [
    {
     "data": {
      "text/plain": [
       "(3333,)"
      ]
     },
     "execution_count": 220,
     "metadata": {},
     "output_type": "execute_result"
    }
   ],
   "source": [
    "y.shape"
   ]
  },
  {
   "cell_type": "code",
   "execution_count": 221,
   "metadata": {},
   "outputs": [],
   "source": [
    "knn=KNeighborsClassifier(n_neighbors=6)"
   ]
  },
  {
   "cell_type": "code",
   "execution_count": 222,
   "metadata": {},
   "outputs": [
    {
     "data": {
      "text/plain": [
       "KNeighborsClassifier(n_neighbors=6)"
      ]
     },
     "execution_count": 222,
     "metadata": {},
     "output_type": "execute_result"
    }
   ],
   "source": [
    "knn"
   ]
  },
  {
   "cell_type": "code",
   "execution_count": 223,
   "metadata": {},
   "outputs": [
    {
     "data": {
      "text/plain": [
       "KNeighborsClassifier(n_neighbors=6)"
      ]
     },
     "execution_count": 223,
     "metadata": {},
     "output_type": "execute_result"
    }
   ],
   "source": [
    "knn.fit(X,y)"
   ]
  },
  {
   "cell_type": "code",
   "execution_count": 224,
   "metadata": {},
   "outputs": [],
   "source": [
    "X_new=np.array([[30,17.5],\n",
    "               [107,24.1],\n",
    "               [213,10.9]])from sklearn.model_selection import train_test_split"
   ]
  },
  {
   "cell_type": "code",
   "execution_count": 225,
   "metadata": {},
   "outputs": [],
   "source": [
    "y_pred=knn.predict(X_new)"
   ]
  },
  {
   "cell_type": "code",
   "execution_count": 228,
   "metadata": {},
   "outputs": [
    {
     "name": "stdout",
     "output_type": "stream",
     "text": [
      "<bound method ClassifierMixin.score of KNeighborsClassifier(n_neighbors=6)>\n"
     ]
    }
   ],
   "source": [
    "print(knn.score)"
   ]
  },
  {
   "cell_type": "code",
   "execution_count": 229,
   "metadata": {},
   "outputs": [],
   "source": [
    "from sklearn.model_selection import train_test_split"
   ]
  },
  {
   "cell_type": "code",
   "execution_count": 230,
   "metadata": {},
   "outputs": [],
   "source": [
    "X_train, X_test, y_train, y_test = train_test_split(X, \n",
    "                                                    y, \n",
    "                                                    test_size=0.3,\n",
    "                                                    random_state=1,\n",
    "                                                    stratify=y)"
   ]
  },
  {
   "cell_type": "code",
   "execution_count": 231,
   "metadata": {},
   "outputs": [],
   "source": [
    "knn=KNeighborsClassifier(n_neighbors=6)"
   ]
  },
  {
   "cell_type": "code",
   "execution_count": 232,
   "metadata": {},
   "outputs": [
    {
     "data": {
      "text/plain": [
       "KNeighborsClassifier(n_neighbors=6)"
      ]
     },
     "execution_count": 232,
     "metadata": {},
     "output_type": "execute_result"
    }
   ],
   "source": [
    "knn.fit(X_train,y_train)"
   ]
  },
  {
   "cell_type": "markdown",
   "metadata": {},
   "source": [
    "### Eğitim verisi doğruluğu"
   ]
  },
  {
   "cell_type": "code",
   "execution_count": 233,
   "metadata": {},
   "outputs": [
    {
     "data": {
      "text/plain": [
       "0.8864123446206601"
      ]
     },
     "execution_count": 233,
     "metadata": {},
     "output_type": "execute_result"
    }
   ],
   "source": [
    "knn.score(X_train,y_train)"
   ]
  },
  {
   "cell_type": "markdown",
   "metadata": {},
   "source": [
    "### Test Verisi Doğruluğu"
   ]
  },
  {
   "cell_type": "code",
   "execution_count": 234,
   "metadata": {},
   "outputs": [
    {
     "data": {
      "text/plain": [
       "0.864"
      ]
     },
     "execution_count": 234,
     "metadata": {},
     "output_type": "execute_result"
    }
   ],
   "source": [
    "knn.score(X_test,y_test)"
   ]
  },
  {
   "cell_type": "markdown",
   "metadata": {},
   "source": [
    "## 2. Soru b-)"
   ]
  },
  {
   "cell_type": "markdown",
   "metadata": {},
   "source": [
    " Daha iyi bir soru ile optimum k değerini nasıl bulabiliriz. \n",
    " Bunun için bir aralık için tüm k değerleri için modelimizi eğitim accuracy score üzerinden bir karşılaştırma yapıp olası en iyi k değeri bulunabilir.\n",
    "\n",
    " k değerinin 1-25 arasındaki durumlarını inceleyelim."
   ]
  },
  {
   "cell_type": "code",
   "execution_count": 241,
   "metadata": {},
   "outputs": [
    {
     "data": {
      "text/plain": [
       "array([0.808, 0.868, 0.862, 0.867, 0.868, 0.864, 0.869, 0.87 , 0.871,\n",
       "       0.87 , 0.868, 0.871, 0.874, 0.874, 0.875, 0.874, 0.877, 0.874,\n",
       "       0.876, 0.875, 0.875, 0.873, 0.875, 0.872])"
      ]
     },
     "execution_count": 241,
     "metadata": {},
     "output_type": "execute_result"
    }
   ],
   "source": [
    "Ks = 25\n",
    "mean_acc = np.zeros((Ks-1))\n",
    "std_acc = np.zeros((Ks-1))\n",
    "ConfustionMx = [];\n",
    "for n in range(1,Ks):\n",
    "    \n",
    "    neigh = KNeighborsClassifier(n_neighbors = n).fit(X_train,y_train)\n",
    "    yhat=neigh.predict(X_test)\n",
    "    mean_acc[n-1] = metrics.accuracy_score(y_test, yhat)\n",
    "\n",
    "    \n",
    "    std_acc[n-1]=np.std(yhat==y_test)/np.sqrt(yhat.shape[0])\n",
    "\n",
    "mean_acc"
   ]
  },
  {
   "cell_type": "code",
   "execution_count": 240,
   "metadata": {},
   "outputs": [
    {
     "name": "stdout",
     "output_type": "stream",
     "text": [
      "En yüksek Doğruluk oranını = 0.877 K= 17 olduğunda elde ettik.\n"
     ]
    }
   ],
   "source": [
    "print( \"En yüksek Doğruluk oranını =\", mean_acc.max(), \"K=\", mean_acc.argmax()+1,\"olduğunda elde ettik.\") "
   ]
  },
  {
   "cell_type": "code",
   "execution_count": null,
   "metadata": {},
   "outputs": [],
   "source": []
  }
 ],
 "metadata": {
  "colab": {
   "authorship_tag": "ABX9TyPEOC2/4yCruHb8TEjJOMGG",
   "name": "Final 2022.ipynb",
   "provenance": []
  },
  "kernelspec": {
   "display_name": "Python 3 (ipykernel)",
   "language": "python",
   "name": "python3"
  },
  "language_info": {
   "codemirror_mode": {
    "name": "ipython",
    "version": 3
   },
   "file_extension": ".py",
   "mimetype": "text/x-python",
   "name": "python",
   "nbconvert_exporter": "python",
   "pygments_lexer": "ipython3",
   "version": "3.9.7"
  }
 },
 "nbformat": 4,
 "nbformat_minor": 4
}
