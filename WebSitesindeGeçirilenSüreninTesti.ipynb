{
 "cells": [
  {
   "cell_type": "markdown",
   "id": "21e7920c-763d-4ee9-bb5e-cb7435e18f3e",
   "metadata": {},
   "source": [
    "## Problem:\n",
    "##### Web sitemizde geçirilen ortalama süre gerçekten 170 sn mi?\n",
    "###### Yazılımlardan elde edilen web sitesinde geçirilen ortalama süreler var.\n",
    "###### Bu veriler incelendiğinde bir yönetici ya da çalışanımız bu değerlerin böyle olmadığına yönelik düşünceler taşıyor ve bu durumu test etmek istiyor."
   ]
  },
  {
   "cell_type": "code",
   "execution_count": 1,
   "id": "2bb85ced-0fc8-41ce-8155-a6d935c962ac",
   "metadata": {},
   "outputs": [],
   "source": [
    "# H0: mu = 50\n",
    "# H1:mu != 50\n",
    "\n",
    "import numpy as np\n",
    "olcumler = np.array([17, 160, 234, 149, 145, 107, 197, 75, 201, 225, 211, 119, \n",
    "              157, 145, 127, 244, 163, 114, 145,  65, 112, 185, 202, 146,\n",
    "              203, 224, 203, 114, 188, 156, 187, 154, 177, 95, 165, 50, 110, \n",
    "              216, 138, 151, 166, 135, 155, 84, 251, 173, 131, 207, 121, 120])"
   ]
  },
  {
   "cell_type": "code",
   "execution_count": 3,
   "id": "8e017504-51b0-4d63-90aa-b928310fed84",
   "metadata": {},
   "outputs": [
    {
     "data": {
      "text/plain": [
       "array([ 17, 160, 234, 149, 145, 107, 197,  75, 201, 225])"
      ]
     },
     "execution_count": 3,
     "metadata": {},
     "output_type": "execute_result"
    }
   ],
   "source": [
    "olcumler[0:10]"
   ]
  },
  {
   "cell_type": "code",
   "execution_count": 4,
   "id": "4c23d797-51a5-4b54-8a27-4311b1da243c",
   "metadata": {},
   "outputs": [],
   "source": [
    "import scipy.stats as stats"
   ]
  },
  {
   "cell_type": "code",
   "execution_count": 6,
   "id": "069d33aa-8a32-460e-b116-b09d1d9a2db4",
   "metadata": {},
   "outputs": [
    {
     "data": {
      "text/plain": [
       "DescribeResult(nobs=50, minmax=(17, 251), mean=154.38, variance=2578.0363265306123, skewness=-0.32398897278694483, kurtosis=-0.05849823498415985)"
      ]
     },
     "execution_count": 6,
     "metadata": {},
     "output_type": "execute_result"
    }
   ],
   "source": [
    "stats.describe(olcumler) # pandasa cevirmeden frame yapısına cevirmeden describe yapısındaki değerlerini gördük."
   ]
  },
  {
   "cell_type": "code",
   "execution_count": 7,
   "id": "281dd306-5a67-431e-9560-ed96559a9549",
   "metadata": {},
   "outputs": [],
   "source": [
    "# varsayımlar\n",
    "# normallik varsayımı"
   ]
  },
  {
   "cell_type": "code",
   "execution_count": 9,
   "id": "0aeaf82a-5a36-4c5e-85f0-3e51f47fb5af",
   "metadata": {},
   "outputs": [
    {
     "data": {
      "image/png": "[encoded data removed]",
      "text/plain": [
       "<Figure size 432x288 with 1 Axes>"
      ]
     },
     "metadata": {
      "needs_background": "light"
     },
     "output_type": "display_data"
    }
   ],
   "source": [
    "import pandas as pd\n",
    "# Histogram\n",
    "pd.DataFrame(olcumler).plot.hist();"
   ]
  },
  {
   "cell_type": "code",
   "execution_count": 10,
   "id": "ba363c36-2ca4-4693-a004-71b62c2298b3",
   "metadata": {},
   "outputs": [
    {
     "data": {
      "image/png": "[encoded data removed]",
      "text/plain": [
       "<Figure size 432x288 with 1 Axes>"
      ]
     },
     "metadata": {
      "needs_background": "light"
     },
     "output_type": "display_data"
    }
   ],
   "source": [
    "# qqplot\n",
    "import pylab\n",
    "stats.probplot(olcumler,dist=\"norm\", plot=pylab)\n",
    "pylab.show()"
   ]
  },
  {
   "cell_type": "code",
   "execution_count": 11,
   "id": "ee1e5b4e-603d-46d2-ac00-4189c44ffa04",
   "metadata": {},
   "outputs": [],
   "source": [
    "# Shapiro-Wilks Testi"
   ]
  },
  {
   "cell_type": "markdown",
   "id": "70f89f8d-5d52-4210-8ff6-80c8fcec3dbb",
   "metadata": {},
   "source": [
    "H0: ornek dağılımı ile teorik normal dağılım arasında ist. olarak anlamlı bir fark yoktur.\n",
    "H1: ..vardır"
   ]
  },
  {
   "cell_type": "code",
   "execution_count": 12,
   "id": "a64cd86c-5cab-484b-9851-53d223339b45",
   "metadata": {},
   "outputs": [],
   "source": [
    "from scipy.stats import shapiro"
   ]
  },
  {
   "cell_type": "code",
   "execution_count": 14,
   "id": "c3ae468e-8afa-43bc-a449-0a5dbd345285",
   "metadata": {},
   "outputs": [
    {
     "data": {
      "text/plain": [
       "ShapiroResult(statistic=0.9853105545043945, pvalue=0.7848747968673706)"
      ]
     },
     "execution_count": 14,
     "metadata": {},
     "output_type": "execute_result"
    }
   ],
   "source": [
    "shapiro(olcumler) # h0'ı reddedemeyiz, çünkü pvalue değeri alfa değerinden, 0.50 değerinden küçük değildir."
   ]
  },
  {
   "cell_type": "code",
   "execution_count": 16,
   "id": "e18cb435-7e51-4d76-bc18-c58d33298da0",
   "metadata": {},
   "outputs": [
    {
     "name": "stdout",
     "output_type": "stream",
     "text": [
      "T Hesap İstatistiği: 0.9853105545043945\n",
      "Hesaplanan P-value: 0.7848747968673706\n"
     ]
    }
   ],
   "source": [
    "print(\"T Hesap İstatistiği: \" + str(shapiro(olcumler)[0]))\n",
    "print(\"Hesaplanan P-value: \" + str(shapiro(olcumler)[1]))\n",
    "\n",
    "# Buraya kadar varsayım testi yaptık, varsayım sağlanıyor mu testi. Varsayım sağlanıyorsa hipotezimizi uygulayabiliriz."
   ]
  },
  {
   "cell_type": "code",
   "execution_count": 17,
   "id": "e3f81661-7318-4b06-a811-c81d74ea727c",
   "metadata": {},
   "outputs": [],
   "source": [
    "# Hipotez testinin uygulanması"
   ]
  },
  {
   "cell_type": "code",
   "execution_count": 19,
   "id": "61463907-d693-425e-80d9-41c4894c23d9",
   "metadata": {},
   "outputs": [
    {
     "data": {
      "text/plain": [
       "Ttest_1sampResult(statistic=-2.1753117985877966, pvalue=0.034460415195071446)"
      ]
     },
     "execution_count": 19,
     "metadata": {},
     "output_type": "execute_result"
    }
   ],
   "source": [
    "stats.ttest_1samp(olcumler,popmean=170)\n",
    "# H0: Web sitemizde geçirilen ortalama süre 170'dir.\n",
    "# H1: .. degildir.\n",
    "# bu sonuc gosteriyor ki alfa değerinden küçük olduğundan H0 hipotezi reddedilir."
   ]
  },
  {
   "cell_type": "code",
   "execution_count": null,
   "id": "0e225d5c-2ea8-4df0-9359-acf743f147e0",
   "metadata": {},
   "outputs": [],
   "source": []
  }
 ],
 "metadata": {
  "kernelspec": {
   "display_name": "Python 3 (ipykernel)",
   "language": "python",
   "name": "python3"
  },
  "language_info": {
   "codemirror_mode": {
    "name": "ipython",
    "version": 3
   },
   "file_extension": ".py",
   "mimetype": "text/x-python",
   "name": "python",
   "nbconvert_exporter": "python",
   "pygments_lexer": "ipython3",
   "version": "3.9.7"
  }
 },
 "nbformat": 4,
 "nbformat_minor": 5
}
