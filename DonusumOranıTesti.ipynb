{
 "cells": [
  {
   "cell_type": "markdown",
   "id": "e90fab84-ea05-4d9c-81e4-2fbe91f87747",
   "metadata": {},
   "source": [
    "## Problem:\n",
    "##### Bir yazılım ile bir mecrada reklam verilmiş ve bu reklama ilişkin yazılım tarafından 0.125 dönüşüm oranı elde edildiği ifade edilmiştir. Fakat bbu durum kontrol edilmek isteniyor. Çünkü bu yüksek bir oran ve gelirler incelendiğiinde örtüşmüyor.\n"
   ]
  },
  {
   "cell_type": "markdown",
   "id": "b325d6fe-9620-4207-a0fd-db6a7bc92926",
   "metadata": {},
   "source": [
    "###### 500 kişi dış mecrada reklamlara tıklamış, 40 tanesi sitemize gelip alışveriş yapmış.\n",
    "###### Örnek üzerinden elde edilen dönüşüm oranı 40/500 = 0,08"
   ]
  },
  {
   "cell_type": "code",
   "execution_count": 3,
   "id": "36d903e6-d5d7-4c08-aab6-48503386e646",
   "metadata": {},
   "outputs": [],
   "source": [
    "# Hipotezler: H0: p= 0.125\n",
    "#              H1: p != 0.125"
   ]
  },
  {
   "cell_type": "code",
   "execution_count": 4,
   "id": "a1f54202-002d-4714-b02d-012904e5c054",
   "metadata": {},
   "outputs": [],
   "source": [
    "from statsmodels.stats.proportion import proportions_ztest"
   ]
  },
  {
   "cell_type": "code",
   "execution_count": 5,
   "id": "62a07025-9a58-409e-8e02-a747b890c3c2",
   "metadata": {},
   "outputs": [],
   "source": [
    "count = 40\n",
    "nobs = 500\n",
    "value = 0.125"
   ]
  },
  {
   "cell_type": "code",
   "execution_count": 8,
   "id": "1bb72666-0a3f-46f4-8101-11716f0300db",
   "metadata": {},
   "outputs": [
    {
     "data": {
      "text/plain": [
       "(-3.7090151628513017, 0.0002080669689845979)"
      ]
     },
     "execution_count": 8,
     "metadata": {},
     "output_type": "execute_result"
    }
   ],
   "source": [
    "proportions_ztest(count,nobs,value)\n",
    "# çıkan sonuca göre H0 hipotezini reddettik. İstatiksel olarak %95 güven ile söyledik."
   ]
  },
  {
   "cell_type": "code",
   "execution_count": null,
   "id": "71a9a3e8-6dc0-4bae-a6c8-dddc4ecd1ec3",
   "metadata": {},
   "outputs": [],
   "source": []
  }
 ],
 "metadata": {
  "kernelspec": {
   "display_name": "Python 3 (ipykernel)",
   "language": "python",
   "name": "python3"
  },
  "language_info": {
   "codemirror_mode": {
    "name": "ipython",
    "version": 3
   },
   "file_extension": ".py",
   "mimetype": "text/x-python",
   "name": "python",
   "nbconvert_exporter": "python",
   "pygments_lexer": "ipython3",
   "version": "3.9.7"
  }
 },
 "nbformat": 4,
 "nbformat_minor": 5
}
