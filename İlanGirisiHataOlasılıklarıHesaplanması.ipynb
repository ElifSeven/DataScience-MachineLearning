{
 "cells": [
  {
   "cell_type": "markdown",
   "id": "b6a8a50d-b7d8-4d2c-8af7-a13e89d7fb0a",
   "metadata": {},
   "source": [
    "## Problem: \n",
    "#### Hatalı ilan girişi olasılıkları hesaplanmak isteniyor. "
   ]
  },
  {
   "cell_type": "markdown",
   "id": "77e8a709-9c01-4512-9661-dcc2448214f2",
   "metadata": {},
   "source": [
    "##### 1 yıl süresince ölçümler yapılıyor\n",
    "##### Dağılım biliniyor(Poisson) ve Lambda:0.1(ortalama hata sayısı)\n",
    "##### Hiç hata olmaması, 3 hata olması ve 5 hata olması olasılıkları nelerdir?"
   ]
  },
  {
   "cell_type": "code",
   "execution_count": 3,
   "id": "12580ac4-6d73-480f-a4c0-a79278453a29",
   "metadata": {},
   "outputs": [],
   "source": [
    "from scipy.stats import poisson"
   ]
  },
  {
   "cell_type": "code",
   "execution_count": 5,
   "id": "1fe5212b-d961-42f6-8f0c-d0eb49c5d793",
   "metadata": {},
   "outputs": [],
   "source": [
    "lambda_ = 0.1"
   ]
  },
  {
   "cell_type": "code",
   "execution_count": 10,
   "id": "db2c0436-8a22-46d5-9e9d-5de746456602",
   "metadata": {},
   "outputs": [
    {
     "name": "stdout",
     "output_type": "stream",
     "text": [
      "0.9048374180359595\n"
     ]
    }
   ],
   "source": [
    "rv = poisson(mu = lambda_)\n",
    "print(rv.pmf(k = 0 )) # proability mass function"
   ]
  },
  {
   "cell_type": "code",
   "execution_count": 8,
   "id": "02d7d036-e412-427a-88b2-2df000fbc41f",
   "metadata": {},
   "outputs": [
    {
     "name": "stdout",
     "output_type": "stream",
     "text": [
      "0.00015080623633932676\n"
     ]
    }
   ],
   "source": [
    "print(rv.pmf(k = 3 ))"
   ]
  },
  {
   "cell_type": "code",
   "execution_count": 9,
   "id": "2c27d031-7838-44e5-9df6-0896d0e4c08b",
   "metadata": {},
   "outputs": [
    {
     "name": "stdout",
     "output_type": "stream",
     "text": [
      "7.54031181696634e-08\n"
     ]
    }
   ],
   "source": [
    "print(rv.pmf(k = 5 ))"
   ]
  },
  {
   "cell_type": "code",
   "execution_count": null,
   "id": "79a8e6d4-b4a3-4724-9a81-d99ac01ec614",
   "metadata": {},
   "outputs": [],
   "source": []
  }
 ],
 "metadata": {
  "kernelspec": {
   "display_name": "Python 3 (ipykernel)",
   "language": "python",
   "name": "python3"
  },
  "language_info": {
   "codemirror_mode": {
    "name": "ipython",
    "version": 3
   },
   "file_extension": ".py",
   "mimetype": "text/x-python",
   "name": "python",
   "nbconvert_exporter": "python",
   "pygments_lexer": "ipython3",
   "version": "3.9.7"
  }
 },
 "nbformat": 4,
 "nbformat_minor": 5
}
