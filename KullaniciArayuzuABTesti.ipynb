{
 "cells": [
  {
   "cell_type": "markdown",
   "id": "579c3d28-63d4-42c8-b3e1-42c47c2aee2e",
   "metadata": {},
   "source": [
    "## Problem:\n",
    "###### AB testleri sektörde oldukça fazla kullanılmaktadır. Oran testi yapılır. 2 oran karşılaştırılır. Web sitesinin tasarımında hangisine karar verilmeli. Yeşil Buton mu Kırmızı buton mu olmalı, buna karar vermek için AB testi denilen 2 örneklem oran testi kullanılır. 2 orana ilişkin dönüşüm testi. \n",
    "\n",
    "###### H0: P1 <= P2\n",
    "###### H1: P1>P2"
   ]
  },
  {
   "cell_type": "code",
   "execution_count": 1,
   "id": "60fc8e2e-7007-4c95-bfd4-b1d745843ef3",
   "metadata": {},
   "outputs": [],
   "source": [
    "from statsmodels.stats.proportion import proportions_ztest"
   ]
  },
  {
   "cell_type": "code",
   "execution_count": 7,
   "id": "87eb4fdd-5537-4a8b-ab09-cc8258541cc0",
   "metadata": {},
   "outputs": [],
   "source": [
    "import numpy as np\n",
    "basari_sayisi = np.array([300,250]) # 1. ve 2. butona ait başarı sayıları, 2 gözleme ait başarı sayıları\n",
    "gozlem_sayilari = np.array([1000,1100])"
   ]
  },
  {
   "cell_type": "code",
   "execution_count": 6,
   "id": "93ee507d-709d-4ae5-8641-3a6d7a00961e",
   "metadata": {},
   "outputs": [
    {
     "data": {
      "text/plain": [
       "(3.7857863233209255, 0.0001532232957772221)"
      ]
     },
     "execution_count": 6,
     "metadata": {},
     "output_type": "execute_result"
    }
   ],
   "source": [
    "proportions_ztest(count = basari_sayisi, nobs = gozlem_sayilari)"
   ]
  },
  {
   "cell_type": "markdown",
   "id": "4df24fda-6052-4a4a-90d6-d62ec65c29f3",
   "metadata": {},
   "source": [
    "###### Sonucta, p value değeri 0.05 den oldukca kucuk olduğundan dolayı H0 hipotezi reddedilir. Yani butonların kullanıcı davranışlarına etkisi farklıdır. Yesil butonun lehine olacak sekildedir. Yani 2 örnek oranının arasında istatistik olarak anlamsal farklılık vardır. E-ticaret sitelerinde AB testleri oldukça çok kullanılmaktadır. Çok önemlidir."
   ]
  },
  {
   "cell_type": "code",
   "execution_count": null,
   "id": "ed1ac97f-1d2a-4218-836d-9f8c613f150c",
   "metadata": {},
   "outputs": [],
   "source": []
  }
 ],
 "metadata": {
  "kernelspec": {
   "display_name": "Python 3 (ipykernel)",
   "language": "python",
   "name": "python3"
  },
  "language_info": {
   "codemirror_mode": {
    "name": "ipython",
    "version": 3
   },
   "file_extension": ".py",
   "mimetype": "text/x-python",
   "name": "python",
   "nbconvert_exporter": "python",
   "pygments_lexer": "ipython3",
   "version": "3.9.7"
  }
 },
 "nbformat": 4,
 "nbformat_minor": 5
}
